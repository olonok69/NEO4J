{
  "nbformat": 4,
  "nbformat_minor": 0,
  "metadata": {
    "kernelspec": {
      "display_name": "Python 3",
      "language": "python",
      "name": "python3"
    },
    "language_info": {
      "codemirror_mode": {
        "name": "ipython",
        "version": 3
      },
      "file_extension": ".py",
      "mimetype": "text/x-python",
      "name": "python",
      "nbconvert_exporter": "python",
      "pygments_lexer": "ipython3",
      "version": "3.6.7"
    },
    "colab": {
      "name": "NEO4J04_Predictions.ipynb",
      "provenance": [],
      "collapsed_sections": [
        "-l_ZNudO6xeN"
      ],
      "include_colab_link": true
    }
  },
  "cells": [
    {
      "cell_type": "markdown",
      "metadata": {
        "id": "view-in-github",
        "colab_type": "text"
      },
      "source": [
        "<a href=\"https://colab.research.google.com/github/olonok69/NEO4J/blob/main/NEO4J04_Predictions.ipynb\" target=\"_parent\"><img src=\"https://colab.research.google.com/assets/colab-badge.svg\" alt=\"Open In Colab\"/></a>"
      ]
    },
    {
      "cell_type": "code",
      "metadata": {
        "id": "1yNb-Gr_6-Ue",
        "colab": {
          "base_uri": "https://localhost:8080/",
          "height": 1000
        },
        "outputId": "1294664a-8659-4ce8-bdaa-cf3a08be70f6"
      },
      "source": [
        "!pip install py2neo==4.1.3 pandas matplotlib sklearn"
      ],
      "execution_count": null,
      "outputs": [
        {
          "output_type": "stream",
          "text": [
            "Collecting py2neo==4.1.3\n",
            "\u001b[?25l  Downloading https://files.pythonhosted.org/packages/23/ca/c8de5a2c754d75c70473c849a23f49971b60914e6d6c00c9328ff64f56c5/py2neo-4.1.3.tar.gz (70kB)\n",
            "\r\u001b[K     |████▋                           | 10kB 17.3MB/s eta 0:00:01\r\u001b[K     |█████████▎                      | 20kB 22.4MB/s eta 0:00:01\r\u001b[K     |█████████████▉                  | 30kB 11.0MB/s eta 0:00:01\r\u001b[K     |██████████████████▌             | 40kB 8.4MB/s eta 0:00:01\r\u001b[K     |███████████████████████         | 51kB 4.3MB/s eta 0:00:01\r\u001b[K     |███████████████████████████▊    | 61kB 4.6MB/s eta 0:00:01\r\u001b[K     |████████████████████████████████| 71kB 2.9MB/s \n",
            "\u001b[?25hRequirement already satisfied: pandas in /usr/local/lib/python3.6/dist-packages (1.1.4)\n",
            "Requirement already satisfied: matplotlib in /usr/local/lib/python3.6/dist-packages (3.2.2)\n",
            "Requirement already satisfied: sklearn in /usr/local/lib/python3.6/dist-packages (0.0)\n",
            "Requirement already satisfied: click>=2.0 in /usr/local/lib/python3.6/dist-packages (from py2neo==4.1.3) (7.1.2)\n",
            "Collecting colorama\n",
            "  Downloading https://files.pythonhosted.org/packages/44/98/5b86278fbbf250d239ae0ecb724f8572af1c91f4a11edf4d36a206189440/colorama-0.4.4-py2.py3-none-any.whl\n",
            "Collecting neo4j-driver<1.7,>=1.6.2\n",
            "\u001b[?25l  Downloading https://files.pythonhosted.org/packages/12/db/1c68c1c244ea4afedf14459645a9c5e4124b9fbec12b2da02ed084ac32f7/neo4j-driver-1.6.3.tar.gz (188kB)\n",
            "\u001b[K     |████████████████████████████████| 194kB 8.4MB/s \n",
            "\u001b[?25hCollecting neotime==1.0.0\n",
            "  Downloading https://files.pythonhosted.org/packages/fe/0c/9ca123125fb3cda9281f30e90b493e8ae3bb9bf6965bb7f275713fa02dd2/neotime-1.0.0.tar.gz\n",
            "Collecting prompt_toolkit==1.0.15\n",
            "\u001b[?25l  Downloading https://files.pythonhosted.org/packages/04/d1/c6616dd03701e7e2073f06d5c3b41b012256e42b72561f16a7bd86dd7b43/prompt_toolkit-1.0.15-py3-none-any.whl (247kB)\n",
            "\u001b[K     |████████████████████████████████| 256kB 39.6MB/s \n",
            "\u001b[?25hRequirement already satisfied: pygments>=2.0 in /usr/local/lib/python3.6/dist-packages (from py2neo==4.1.3) (2.6.1)\n",
            "Requirement already satisfied: pytest in /usr/local/lib/python3.6/dist-packages (from py2neo==4.1.3) (3.6.4)\n",
            "Collecting urllib3[secure]<1.23,>=1.21.1\n",
            "\u001b[?25l  Downloading https://files.pythonhosted.org/packages/63/cb/6965947c13a94236f6d4b8223e21beb4d576dc72e8130bd7880f600839b8/urllib3-1.22-py2.py3-none-any.whl (132kB)\n",
            "\u001b[K     |████████████████████████████████| 133kB 44.3MB/s \n",
            "\u001b[?25hRequirement already satisfied: python-dateutil>=2.7.3 in /usr/local/lib/python3.6/dist-packages (from pandas) (2.8.1)\n",
            "Requirement already satisfied: numpy>=1.15.4 in /usr/local/lib/python3.6/dist-packages (from pandas) (1.18.5)\n",
            "Requirement already satisfied: pytz>=2017.2 in /usr/local/lib/python3.6/dist-packages (from pandas) (2018.9)\n",
            "Requirement already satisfied: cycler>=0.10 in /usr/local/lib/python3.6/dist-packages (from matplotlib) (0.10.0)\n",
            "Requirement already satisfied: pyparsing!=2.0.4,!=2.1.2,!=2.1.6,>=2.0.1 in /usr/local/lib/python3.6/dist-packages (from matplotlib) (2.4.7)\n",
            "Requirement already satisfied: kiwisolver>=1.0.1 in /usr/local/lib/python3.6/dist-packages (from matplotlib) (1.3.1)\n",
            "Requirement already satisfied: scikit-learn in /usr/local/lib/python3.6/dist-packages (from sklearn) (0.22.2.post1)\n",
            "Requirement already satisfied: six in /usr/local/lib/python3.6/dist-packages (from neotime==1.0.0->py2neo==4.1.3) (1.15.0)\n",
            "Requirement already satisfied: wcwidth in /usr/local/lib/python3.6/dist-packages (from prompt_toolkit==1.0.15->py2neo==4.1.3) (0.2.5)\n",
            "Requirement already satisfied: py>=1.5.0 in /usr/local/lib/python3.6/dist-packages (from pytest->py2neo==4.1.3) (1.9.0)\n",
            "Requirement already satisfied: more-itertools>=4.0.0 in /usr/local/lib/python3.6/dist-packages (from pytest->py2neo==4.1.3) (8.6.0)\n",
            "Requirement already satisfied: atomicwrites>=1.0 in /usr/local/lib/python3.6/dist-packages (from pytest->py2neo==4.1.3) (1.4.0)\n",
            "Requirement already satisfied: pluggy<0.8,>=0.5 in /usr/local/lib/python3.6/dist-packages (from pytest->py2neo==4.1.3) (0.7.1)\n",
            "Requirement already satisfied: attrs>=17.4.0 in /usr/local/lib/python3.6/dist-packages (from pytest->py2neo==4.1.3) (20.3.0)\n",
            "Requirement already satisfied: setuptools in /usr/local/lib/python3.6/dist-packages (from pytest->py2neo==4.1.3) (50.3.2)\n",
            "Requirement already satisfied: certifi; extra == \"secure\" in /usr/local/lib/python3.6/dist-packages (from urllib3[secure]<1.23,>=1.21.1->py2neo==4.1.3) (2020.11.8)\n",
            "Requirement already satisfied: scipy>=0.17.0 in /usr/local/lib/python3.6/dist-packages (from scikit-learn->sklearn) (1.4.1)\n",
            "Requirement already satisfied: joblib>=0.11 in /usr/local/lib/python3.6/dist-packages (from scikit-learn->sklearn) (0.17.0)\n",
            "Building wheels for collected packages: py2neo, neo4j-driver, neotime\n",
            "  Building wheel for py2neo (setup.py) ... \u001b[?25l\u001b[?25hdone\n",
            "  Created wheel for py2neo: filename=py2neo-4.1.3-py2.py3-none-any.whl size=89805 sha256=bdcb9f4553ced5b794916e6aa7e132bfb1a1724af56b94c399a05910453f986a\n",
            "  Stored in directory: /root/.cache/pip/wheels/49/b4/f8/df22db284f7ec2f6c26f87a87ff38c6c8ffa84baf2930ef0fe\n",
            "  Building wheel for neo4j-driver (setup.py) ... \u001b[?25l\u001b[?25hdone\n",
            "  Created wheel for neo4j-driver: filename=neo4j_driver-1.6.3-cp36-cp36m-linux_x86_64.whl size=525052 sha256=9a59b81e8d85cd80cb99474e042601729124cd002873253c4226f4d0aa1d6442\n",
            "  Stored in directory: /root/.cache/pip/wheels/e3/3d/6f/b1afb54585268913bb38334adaa58c2938911edc85102803a1\n",
            "  Building wheel for neotime (setup.py) ... \u001b[?25l\u001b[?25hdone\n",
            "  Created wheel for neotime: filename=neotime-1.0.0-cp36-none-any.whl size=14714 sha256=a33ff70de04fc3689142c84b52ef6cc020cabd5a8f1fe2da2df8a35bfcf8d829\n",
            "  Stored in directory: /root/.cache/pip/wheels/19/1c/63/e1777cae4998cb32c5ae5bb1901def45cc94de3abff4d7053d\n",
            "Successfully built py2neo neo4j-driver neotime\n",
            "\u001b[31mERROR: datascience 0.10.6 has requirement folium==0.2.1, but you'll have folium 0.8.3 which is incompatible.\u001b[0m\n",
            "\u001b[31mERROR: neo4j-driver 1.6.3 has requirement neotime<1.8,>=1.7.1, but you'll have neotime 1.0.0 which is incompatible.\u001b[0m\n",
            "Installing collected packages: colorama, neotime, neo4j-driver, prompt-toolkit, urllib3, py2neo\n",
            "  Found existing installation: prompt-toolkit 1.0.18\n",
            "    Uninstalling prompt-toolkit-1.0.18:\n",
            "      Successfully uninstalled prompt-toolkit-1.0.18\n",
            "  Found existing installation: urllib3 1.24.3\n",
            "    Uninstalling urllib3-1.24.3:\n",
            "      Successfully uninstalled urllib3-1.24.3\n",
            "Successfully installed colorama-0.4.4 neo4j-driver-1.6.3 neotime-1.0.0 prompt-toolkit-1.0.15 py2neo-4.1.3 urllib3-1.22\n"
          ],
          "name": "stdout"
        },
        {
          "output_type": "display_data",
          "data": {
            "application/vnd.colab-display-data+json": {
              "pip_warning": {
                "packages": [
                  "prompt_toolkit"
                ]
              }
            }
          },
          "metadata": {
            "tags": []
          }
        }
      ]
    },
    {
      "cell_type": "markdown",
      "metadata": {
        "pycharm": {},
        "id": "J96pYwNP6xeM"
      },
      "source": [
        "# Predictions\n",
        "\n",
        "In this notebook you will learn how to build a link prediction classifier using Neo4j and scikit-learn. \n",
        "\n",
        "Import the libraries that you will need (remember to unset Reset all runtimes before running):"
      ]
    },
    {
      "cell_type": "code",
      "metadata": {
        "pycharm": {},
        "id": "tk2SQ2El6xeM"
      },
      "source": [
        "from py2neo import Graph\n",
        "import pandas as pd\n",
        "\n",
        "import matplotlib \n",
        "import matplotlib.pyplot as plt\n",
        "\n",
        "plt.style.use('fivethirtyeight')\n",
        "pd.set_option('display.float_format', lambda x: '%.3f' % x)\n",
        "\n",
        "import pandas as pd\n",
        "from collections import Counter\n",
        "from sklearn.ensemble import RandomForestClassifier\n",
        "\n",
        "from sklearn.metrics import recall_score\n",
        "from sklearn.metrics import precision_score\n",
        "from sklearn.metrics import accuracy_score"
      ],
      "execution_count": null,
      "outputs": []
    },
    {
      "cell_type": "markdown",
      "metadata": {
        "pycharm": {},
        "id": "jmxlrFS76xeN"
      },
      "source": [
        "Next, create a connection to your Neo4j Sandbox, just as you did previously when you set up your environment. \n",
        "\n",
        "\n",
        "Update the cell below to use the Bolt URL, and Password, as you did previously."
      ]
    },
    {
      "cell_type": "code",
      "metadata": {
        "pycharm": {},
        "id": "bFu6qAWJ6xeN"
      },
      "source": [
        "# Change the line of code below to use the Bolt URL and Password of your Sandbox.\n",
        "# graph = Graph(\"bolt://<IP Address>:<Bolt Port>\", auth=(\"neo4j\", \"<Password>\")) \n",
        " \n",
        "\n",
        "graph = Graph(\"bolt://100.26.229.35:34820\", auth=(\"neo4j\", \"dares-problems-concurrence\"))"
      ],
      "execution_count": null,
      "outputs": []
    },
    {
      "cell_type": "markdown",
      "metadata": {
        "pycharm": {},
        "id": "3E6kufCz6xeN"
      },
      "source": [
        "# Building a co-author graph\n",
        "\n",
        "You will build an inferred graph of co-authors based on people collaborating on the same papers. You will store a property on the relationship indicating the year of their first collaboration.\n",
        "\n",
        "Run this code to do this:"
      ]
    },
    {
      "cell_type": "code",
      "metadata": {
        "pycharm": {},
        "id": "BRmj6ENa6xeN",
        "colab": {
          "base_uri": "https://localhost:8080/"
        },
        "outputId": "a68f79a3-f6be-413a-91fe-e4ebd99242c6"
      },
      "source": [
        "query = \"\"\"\n",
        "CALL apoc.periodic.iterate(\n",
        "  \"MATCH (a1)<-[:AUTHOR]-(paper)-[:AUTHOR]->(a2:Author)\n",
        "   WITH a1, a2, paper\n",
        "   ORDER BY a1, paper.year\n",
        "   RETURN a1, a2, collect(paper)[0].year AS year, count(*) AS collaborations\",\n",
        "  \"MERGE (a1)-[coauthor:CO_AUTHOR {year: year}]-(a2)\n",
        "   SET coauthor.collaborations = collaborations\", \n",
        "  {batchSize: 100})\n",
        "\"\"\"\n",
        "\n",
        "graph.run(query).stats()"
      ],
      "execution_count": null,
      "outputs": [
        {
          "output_type": "execute_result",
          "data": {
            "text/plain": [
              "{'constraints_added': 0,\n",
              " 'constraints_removed': 0,\n",
              " 'contains_updates': False,\n",
              " 'indexes_added': 0,\n",
              " 'indexes_removed': 0,\n",
              " 'labels_added': 0,\n",
              " 'labels_removed': 0,\n",
              " 'nodes_created': 0,\n",
              " 'nodes_deleted': 0,\n",
              " 'properties_set': 0,\n",
              " 'relationships_created': 0,\n",
              " 'relationships_deleted': 0}"
            ]
          },
          "metadata": {
            "tags": []
          },
          "execution_count": 4
        }
      ]
    },
    {
      "cell_type": "markdown",
      "metadata": {
        "pycharm": {},
        "id": "BzNaWAIP6xeN"
      },
      "source": [
        "Now that you have created a co-author graph, you need an approach that will allow you to predict future links (relationships) that will be created between people. \n",
        "\n",
        "You will use the [link prediction algorithms](https://neo4j.com/docs/graph-algorithms/current/algorithms/linkprediction/) that you learned about in the previous section. Once you have computed scores with this algorithms what should you do?\n",
        "\n",
        "There are two main approaches that one can take:\n",
        "\n",
        "## Using the measures directly\n",
        "\n",
        "You can use the scores from the link predictions directly, specifying a __threshold value__ above which we predict that a link will be created between two nodes.\n",
        "\n",
        "## Supervised learning\n",
        "\n",
        "You can take a supervised learning approach where you use the scores as features to train a binary classifier. The binary classifier then predicts whether a pair of nodes will have a link.\n",
        "\n",
        "In this notebook you will apply the supervised learning approach.\n",
        "\n",
        "## Train and test datasets \n",
        "\n",
        "Next, you must create the train and test datasets on which you can build, and then evaluate a model.\n",
        "\n",
        "## Positive examples\n",
        "\n",
        "The tricky thing when working with graph data is that you cannot just randomly split the data, as this could lead to data leakage.\n",
        "\n",
        "Data leakage can occur when data outside of your training data is inadvertently used to create your model. This can easily happen when working with graphs because pairs of nodes in the training set may be connected to those in the test set.\n",
        "\n",
        "When you compute link prediction measures over that training set the __measures computed contain information from the test set__ that you will later evaluate the model against.\n",
        "\n",
        "Instead, you need to split the graph into training and test sub graphs. If the graph has a concept of time, things are easier as you can split the graph at a point in time. The training set will be from before the time, the test set after.\n",
        "\n",
        "This is still not a perfect solution and you must ensure that the general network structure in the training and test sub graphs is similar.\n",
        "\n",
        "Subsequently, pairs of nodes in our train and test datasets will have relationships between them. They will be the __positive examples__ in your machine learning model.\n",
        "\n",
        "Because the citation graph contains times, you can create train and test graphs by splitting the data on a particular year. Next, you must determine what year that should be. Determine the distribution of the first year that co-authors collaborated:"
      ]
    },
    {
      "cell_type": "code",
      "metadata": {
        "pycharm": {},
        "id": "_98Ni4nW6xeN",
        "colab": {
          "base_uri": "https://localhost:8080/",
          "height": 576
        },
        "outputId": "76de44c4-e667-49d9-f10b-d29d8c5bfe39"
      },
      "source": [
        "query = \"\"\"\n",
        "MATCH p=()-[r:CO_AUTHOR]->() \n",
        "WITH r.year AS year, count(*) AS count\n",
        "ORDER BY year\n",
        "RETURN toString(year) AS year, count\n",
        "\"\"\"\n",
        "by_year = graph.run(query).to_data_frame()\n",
        "\n",
        "ax = by_year.plot(kind='bar', x='year', y='count', legend=None, figsize=(15,8))\n",
        "ax.xaxis.set_label_text(\"\")\n",
        "plt.tight_layout()\n",
        "plt.show()"
      ],
      "execution_count": null,
      "outputs": [
        {
          "output_type": "display_data",
          "data": {
            "image/png": "[encoded data removed]",
            "text/plain": [
              "<Figure size 1080x576 with 1 Axes>"
            ]
          },
          "metadata": {
            "tags": []
          }
        }
      ]
    },
    {
      "cell_type": "markdown",
      "metadata": {
        "pycharm": {},
        "id": "snB8oTGp6xeN"
      },
      "source": [
        "It looks like 2006 would act as a good year for splitting the data. All co-authorships from 2005 and earlier as our train graph, and everything from 2006 onwards as the test graph.\n",
        "\n",
        "Create explicit `CO_AUTHOR_EARLY` and `CO_AUTHOR_LATE` relationships in the graph based on that year. The following code will create these relationships:"
      ]
    },
    {
      "cell_type": "code",
      "metadata": {
        "pycharm": {},
        "id": "zsL8Qz5V6xeN",
        "colab": {
          "base_uri": "https://localhost:8080/"
        },
        "outputId": "7f3440cc-d504-46b6-8c31-a6a02887d0e9"
      },
      "source": [
        "query = \"\"\"\n",
        "MATCH (a)-[r:CO_AUTHOR]->(b) \n",
        "where r.year < 2006\n",
        "MERGE (a)-[:CO_AUTHOR_EARLY {year: r.year}]-(b);\n",
        "\"\"\"\n",
        "\n",
        "graph.run(query).stats()"
      ],
      "execution_count": null,
      "outputs": [
        {
          "output_type": "execute_result",
          "data": {
            "text/plain": [
              "{'constraints_added': 0,\n",
              " 'constraints_removed': 0,\n",
              " 'contains_updates': True,\n",
              " 'indexes_added': 0,\n",
              " 'indexes_removed': 0,\n",
              " 'labels_added': 0,\n",
              " 'labels_removed': 0,\n",
              " 'nodes_created': 0,\n",
              " 'nodes_deleted': 0,\n",
              " 'properties_set': 81096,\n",
              " 'relationships_created': 81096,\n",
              " 'relationships_deleted': 0}"
            ]
          },
          "metadata": {
            "tags": []
          },
          "execution_count": 6
        }
      ]
    },
    {
      "cell_type": "code",
      "metadata": {
        "pycharm": {},
        "id": "rdz4J2eS6xeN",
        "colab": {
          "base_uri": "https://localhost:8080/"
        },
        "outputId": "b6c7655c-3782-4569-d507-f0bc70945df1"
      },
      "source": [
        "query = \"\"\"\n",
        "MATCH (a)-[r:CO_AUTHOR]->(b) \n",
        "where r.year >= 2006\n",
        "MERGE (a)-[:CO_AUTHOR_LATE {year: r.year}]-(b);\n",
        "\"\"\"\n",
        "\n",
        "graph.run(query).stats()"
      ],
      "execution_count": null,
      "outputs": [
        {
          "output_type": "execute_result",
          "data": {
            "text/plain": [
              "{'constraints_added': 0,\n",
              " 'constraints_removed': 0,\n",
              " 'contains_updates': True,\n",
              " 'indexes_added': 0,\n",
              " 'indexes_removed': 0,\n",
              " 'labels_added': 0,\n",
              " 'labels_removed': 0,\n",
              " 'nodes_created': 0,\n",
              " 'nodes_deleted': 0,\n",
              " 'properties_set': 74128,\n",
              " 'relationships_created': 74128,\n",
              " 'relationships_deleted': 0}"
            ]
          },
          "metadata": {
            "tags": []
          },
          "execution_count": 7
        }
      ]
    },
    {
      "cell_type": "markdown",
      "metadata": {
        "pycharm": {},
        "id": "wM18KKfP6xeN"
      },
      "source": [
        "Determine how many co-author relationship you have in each of these sub graphs:"
      ]
    },
    {
      "cell_type": "code",
      "metadata": {
        "pycharm": {},
        "id": "LhOaFmh06xeN",
        "colab": {
          "base_uri": "https://localhost:8080/",
          "height": 80
        },
        "outputId": "223d4251-a356-49d5-b8da-2af319b0381e"
      },
      "source": [
        "query = \"\"\"\n",
        "MATCH ()-[:CO_AUTHOR_EARLY]->()\n",
        "RETURN count(*) AS count\n",
        "\"\"\"\n",
        "\n",
        "graph.run(query).to_data_frame()"
      ],
      "execution_count": null,
      "outputs": [
        {
          "output_type": "execute_result",
          "data": {
            "text/html": [
              "<div>\n",
              "<style scoped>\n",
              "    .dataframe tbody tr th:only-of-type {\n",
              "        vertical-align: middle;\n",
              "    }\n",
              "\n",
              "    .dataframe tbody tr th {\n",
              "        vertical-align: top;\n",
              "    }\n",
              "\n",
              "    .dataframe thead th {\n",
              "        text-align: right;\n",
              "    }\n",
              "</style>\n",
              "<table border=\"1\" class=\"dataframe\">\n",
              "  <thead>\n",
              "    <tr style=\"text-align: right;\">\n",
              "      <th></th>\n",
              "      <th>count</th>\n",
              "    </tr>\n",
              "  </thead>\n",
              "  <tbody>\n",
              "    <tr>\n",
              "      <th>0</th>\n",
              "      <td>81096</td>\n",
              "    </tr>\n",
              "  </tbody>\n",
              "</table>\n",
              "</div>"
            ],
            "text/plain": [
              "   count\n",
              "0  81096"
            ]
          },
          "metadata": {
            "tags": []
          },
          "execution_count": 8
        }
      ]
    },
    {
      "cell_type": "code",
      "metadata": {
        "pycharm": {},
        "id": "mYiu7rr96xeN",
        "colab": {
          "base_uri": "https://localhost:8080/",
          "height": 80
        },
        "outputId": "4b5a14a2-516e-4fdc-8f71-fac4cc5356d1"
      },
      "source": [
        "query = \"\"\"\n",
        "MATCH ()-[:CO_AUTHOR_LATE]->()\n",
        "RETURN count(*) AS count\n",
        "\"\"\"\n",
        "\n",
        "graph.run(query).to_data_frame()"
      ],
      "execution_count": null,
      "outputs": [
        {
          "output_type": "execute_result",
          "data": {
            "text/html": [
              "<div>\n",
              "<style scoped>\n",
              "    .dataframe tbody tr th:only-of-type {\n",
              "        vertical-align: middle;\n",
              "    }\n",
              "\n",
              "    .dataframe tbody tr th {\n",
              "        vertical-align: top;\n",
              "    }\n",
              "\n",
              "    .dataframe thead th {\n",
              "        text-align: right;\n",
              "    }\n",
              "</style>\n",
              "<table border=\"1\" class=\"dataframe\">\n",
              "  <thead>\n",
              "    <tr style=\"text-align: right;\">\n",
              "      <th></th>\n",
              "      <th>count</th>\n",
              "    </tr>\n",
              "  </thead>\n",
              "  <tbody>\n",
              "    <tr>\n",
              "      <th>0</th>\n",
              "      <td>74128</td>\n",
              "    </tr>\n",
              "  </tbody>\n",
              "</table>\n",
              "</div>"
            ],
            "text/plain": [
              "   count\n",
              "0  74128"
            ]
          },
          "metadata": {
            "tags": []
          },
          "execution_count": 9
        }
      ]
    },
    {
      "cell_type": "markdown",
      "metadata": {
        "pycharm": {},
        "id": "-l_ZNudO6xeN"
      },
      "source": [
        "This graph has a split of 52-48, which is a bit on the high side, but should be ok. Next, we create our __negative examples__.\n",
        "\n",
        "\n",
        "## Negative examples\n",
        "\n",
        "The simplest approach is to use all pair of nodes that don’t have a relationship. __The problem with this approach is that there are significantly more examples of pairs of nodes that don’t have a relationship than there are pairs of nodes that do__.\n",
        "\n",
        "The maximum number of negative examples is equal to:\n",
        "\n",
        "```\n",
        "# negative examples = (# nodes)² - (# relationships) - (# nodes)\n",
        "```\n",
        "\n",
        "i.e. the number of nodes squared, minus the relationships that the graph has, minus self relationships.\n",
        "\n",
        "If you were to use all of these negative examples in your training set, you would have a massive class imbalance — there are many negative examples and relatively few positive ones.\n",
        "\n",
        "A model trained using data that is this imbalanced will achieve very high accuracy by __predicting that any pair of nodes don’t have a relationship__ between them, which is not quite what we want!\n",
        "\n",
        "You need to reduce the number of negative examples. An approach described in several link prediction papers is to use pairs of nodes that are a __specific number of hops away from each other__.\n",
        "\n",
        "This will significantly reduce the number of negative examples, although there will still be a lot more negative examples than positive.\n",
        "\n",
        "To solve this problem, you either need to down sample the negative examples or up sample the positive examples.\n",
        "\n",
        "You will take the down sampling approach. The following function will do this:"
      ]
    },
    {
      "cell_type": "code",
      "metadata": {
        "pycharm": {},
        "id": "jzHERwh46xeN"
      },
      "source": [
        "def down_sample(df):\n",
        "    copy = df.copy()\n",
        "    zero = Counter(copy.label.values)[0]\n",
        "    un = Counter(copy.label.values)[1]\n",
        "    n = zero - un\n",
        "    copy = copy.drop(copy[copy.label == 0].sample(n=n, random_state=1).index)\n",
        "    return copy.sample(frac=1)"
      ],
      "execution_count": null,
      "outputs": []
    },
    {
      "cell_type": "markdown",
      "metadata": {
        "pycharm": {},
        "id": "WeM9PmdX6xeN"
      },
      "source": [
        "Now you are ready to build the train and test datasets based on the train and test sub graphs that you created. \n",
        "\n",
        "* The positive examples will be taken directly from the graph. \n",
        "* The negative examples will be found by looking for people who are 2 or 3 hops away from each other, excluding those that have already collaborated. You will then down sample those examples to equal the size of the positive examples. "
      ]
    },
    {
      "cell_type": "code",
      "metadata": {
        "pycharm": {},
        "id": "hkaq0Em-6xeN"
      },
      "source": [
        "train_existing_links = graph.run(\"\"\"\n",
        "MATCH (author:Author)-[:CO_AUTHOR_EARLY]->(other:Author)\n",
        "RETURN id(author) AS node1, id(other) AS node2, 1 AS label\n",
        "\"\"\").to_data_frame()\n",
        "\n",
        "train_missing_links = graph.run(\"\"\"\n",
        "MATCH (author:Author)\n",
        "WHERE (author)-[:CO_AUTHOR_EARLY]-()\n",
        "MATCH (author)-[:CO_AUTHOR_EARLY*2..3]-(other)\n",
        "WHERE not((author)-[:CO_AUTHOR_EARLY]-(other))\n",
        "RETURN id(author) AS node1, id(other) AS node2, 0 AS label\n",
        "\"\"\").to_data_frame()\n",
        "train_missing_links = train_missing_links.drop_duplicates()"
      ],
      "execution_count": null,
      "outputs": []
    },
    {
      "cell_type": "code",
      "metadata": {
        "pycharm": {},
        "id": "mkA5b07n6xeN"
      },
      "source": [
        "training_df = train_missing_links.append(train_existing_links, ignore_index=True)\n",
        "training_df['label'] = training_df['label'].astype('category')\n",
        "training_df = down_sample(training_df)"
      ],
      "execution_count": null,
      "outputs": []
    },
    {
      "cell_type": "markdown",
      "metadata": {
        "pycharm": {},
        "id": "8y78Pdbk6xeN"
      },
      "source": [
        "Now let's have a look what our train DataFrame contains:"
      ]
    },
    {
      "cell_type": "code",
      "metadata": {
        "pycharm": {},
        "id": "znslGXDj6xeN",
        "colab": {
          "base_uri": "https://localhost:8080/",
          "height": 204
        },
        "outputId": "f28f3839-f5b4-4b3a-9e48-fc8302e1f8be"
      },
      "source": [
        "training_df.head()"
      ],
      "execution_count": null,
      "outputs": [
        {
          "output_type": "execute_result",
          "data": {
            "text/html": [
              "<div>\n",
              "<style scoped>\n",
              "    .dataframe tbody tr th:only-of-type {\n",
              "        vertical-align: middle;\n",
              "    }\n",
              "\n",
              "    .dataframe tbody tr th {\n",
              "        vertical-align: top;\n",
              "    }\n",
              "\n",
              "    .dataframe thead th {\n",
              "        text-align: right;\n",
              "    }\n",
              "</style>\n",
              "<table border=\"1\" class=\"dataframe\">\n",
              "  <thead>\n",
              "    <tr style=\"text-align: right;\">\n",
              "      <th></th>\n",
              "      <th>node1</th>\n",
              "      <th>node2</th>\n",
              "      <th>label</th>\n",
              "    </tr>\n",
              "  </thead>\n",
              "  <tbody>\n",
              "    <tr>\n",
              "      <th>662331</th>\n",
              "      <td>139852</td>\n",
              "      <td>175663</td>\n",
              "      <td>0</td>\n",
              "    </tr>\n",
              "    <tr>\n",
              "      <th>469900</th>\n",
              "      <td>84994</td>\n",
              "      <td>84838</td>\n",
              "      <td>0</td>\n",
              "    </tr>\n",
              "    <tr>\n",
              "      <th>848244</th>\n",
              "      <td>209697</td>\n",
              "      <td>27413</td>\n",
              "      <td>0</td>\n",
              "    </tr>\n",
              "    <tr>\n",
              "      <th>990110</th>\n",
              "      <td>51838</td>\n",
              "      <td>51842</td>\n",
              "      <td>1</td>\n",
              "    </tr>\n",
              "    <tr>\n",
              "      <th>1053985</th>\n",
              "      <td>263668</td>\n",
              "      <td>263669</td>\n",
              "      <td>1</td>\n",
              "    </tr>\n",
              "  </tbody>\n",
              "</table>\n",
              "</div>"
            ],
            "text/plain": [
              "          node1   node2 label\n",
              "662331   139852  175663     0\n",
              "469900    84994   84838     0\n",
              "848244   209697   27413     0\n",
              "990110    51838   51842     1\n",
              "1053985  263668  263669     1"
            ]
          },
          "metadata": {
            "tags": []
          },
          "execution_count": 14
        }
      ]
    },
    {
      "cell_type": "markdown",
      "metadata": {
        "pycharm": {},
        "id": "rnfXeITe6xeN"
      },
      "source": [
        "Let's repeat the process for the test set:"
      ]
    },
    {
      "cell_type": "code",
      "metadata": {
        "pycharm": {},
        "id": "kZq4mqwx6xeO"
      },
      "source": [
        "test_existing_links = graph.run(\"\"\"\n",
        "MATCH (author:Author)-[:CO_AUTHOR_LATE]->(other:Author)\n",
        "RETURN id(author) AS node1, id(other) AS node2, 1 AS label\n",
        "\"\"\").to_data_frame()\n",
        "\n",
        "test_missing_links = graph.run(\"\"\"\n",
        "MATCH (author:Author)\n",
        "WHERE (author)-[:CO_AUTHOR_LATE]-()\n",
        "MATCH (author)-[:CO_AUTHOR_LATE*2..3]-(other)\n",
        "WHERE not((author)-[:CO_AUTHOR_LATE]-(other))\n",
        "RETURN id(author) AS node1, id(other) AS node2, 0 AS label\n",
        "\"\"\").to_data_frame()\n",
        "test_missing_links = test_missing_links.drop_duplicates()"
      ],
      "execution_count": null,
      "outputs": []
    },
    {
      "cell_type": "code",
      "metadata": {
        "pycharm": {},
        "id": "OKTVqgqv6xeO"
      },
      "source": [
        "test_df = test_missing_links.append(test_existing_links, ignore_index=True)\n",
        "test_df['label'] = test_df['label'].astype('category')\n",
        "test_df = down_sample(test_df)"
      ],
      "execution_count": null,
      "outputs": []
    },
    {
      "cell_type": "markdown",
      "metadata": {
        "pycharm": {},
        "id": "0QfrHxGk6xeO"
      },
      "source": [
        "And it's time to sample our test DataFrame:"
      ]
    },
    {
      "cell_type": "code",
      "metadata": {
        "pycharm": {},
        "id": "cXp2-kBN6xeO",
        "colab": {
          "base_uri": "https://localhost:8080/",
          "height": 204
        },
        "outputId": "ebcfdcfd-0db5-4f70-e058-96ff7adbd740"
      },
      "source": [
        "test_df.head()"
      ],
      "execution_count": null,
      "outputs": [
        {
          "output_type": "execute_result",
          "data": {
            "text/html": [
              "<div>\n",
              "<style scoped>\n",
              "    .dataframe tbody tr th:only-of-type {\n",
              "        vertical-align: middle;\n",
              "    }\n",
              "\n",
              "    .dataframe tbody tr th {\n",
              "        vertical-align: top;\n",
              "    }\n",
              "\n",
              "    .dataframe thead th {\n",
              "        text-align: right;\n",
              "    }\n",
              "</style>\n",
              "<table border=\"1\" class=\"dataframe\">\n",
              "  <thead>\n",
              "    <tr style=\"text-align: right;\">\n",
              "      <th></th>\n",
              "      <th>node1</th>\n",
              "      <th>node2</th>\n",
              "      <th>label</th>\n",
              "    </tr>\n",
              "  </thead>\n",
              "  <tbody>\n",
              "    <tr>\n",
              "      <th>1265977</th>\n",
              "      <td>1300</td>\n",
              "      <td>2269</td>\n",
              "      <td>1</td>\n",
              "    </tr>\n",
              "    <tr>\n",
              "      <th>1330525</th>\n",
              "      <td>248677</td>\n",
              "      <td>248695</td>\n",
              "      <td>1</td>\n",
              "    </tr>\n",
              "    <tr>\n",
              "      <th>1284947</th>\n",
              "      <td>95963</td>\n",
              "      <td>123767</td>\n",
              "      <td>1</td>\n",
              "    </tr>\n",
              "    <tr>\n",
              "      <th>1270835</th>\n",
              "      <td>18797</td>\n",
              "      <td>36177</td>\n",
              "      <td>1</td>\n",
              "    </tr>\n",
              "    <tr>\n",
              "      <th>627315</th>\n",
              "      <td>156496</td>\n",
              "      <td>180114</td>\n",
              "      <td>0</td>\n",
              "    </tr>\n",
              "  </tbody>\n",
              "</table>\n",
              "</div>"
            ],
            "text/plain": [
              "          node1   node2 label\n",
              "1265977    1300    2269     1\n",
              "1330525  248677  248695     1\n",
              "1284947   95963  123767     1\n",
              "1270835   18797   36177     1\n",
              "627315   156496  180114     0"
            ]
          },
          "metadata": {
            "tags": []
          },
          "execution_count": 17
        }
      ]
    },
    {
      "cell_type": "markdown",
      "metadata": {
        "pycharm": {},
        "id": "xAyFRR-X6xeO"
      },
      "source": [
        "# Choosing a machine learning algorithm\n",
        "\n",
        "Next, you will create a machine learning pipeline based on a random forest classifier. This method is well suited as this data set will be comprised of a mix of strong and weak features. While the weak features will sometimes be helpful, the random forest method will ensure that you don’t create a model that only fits the training data."
      ]
    },
    {
      "cell_type": "code",
      "metadata": {
        "pycharm": {},
        "id": "Cue3Ljl76xeO"
      },
      "source": [
        "classifier = RandomForestClassifier(n_estimators=30, max_depth=10, random_state=0)"
      ],
      "execution_count": null,
      "outputs": []
    },
    {
      "cell_type": "markdown",
      "metadata": {
        "pycharm": {},
        "id": "aeiTSlIJ6xeO"
      },
      "source": [
        "# Generating graphy features\n",
        "\n",
        "Start by creating a simple model that tries to predict whether two authors will have a future collaboration based on features extracted from common authors, preferential attachment, and the total union of neighbors.\n",
        "\n",
        "The following function computes each of these measures for pairs of nodes:"
      ]
    },
    {
      "cell_type": "code",
      "metadata": {
        "pycharm": {},
        "id": "W11oqX2F6xeO"
      },
      "source": [
        "def apply_graphy_features(data, rel_type):\n",
        "    query = \"\"\"\n",
        "    UNWIND $pairs AS pair\n",
        "    MATCH (p1) WHERE id(p1) = pair.node1\n",
        "    MATCH (p2) WHERE id(p2) = pair.node2\n",
        "    RETURN pair.node1 AS node1,\n",
        "           pair.node2 AS node2,\n",
        "           algo.linkprediction.commonNeighbors(\n",
        "               p1, p2, {relationshipQuery: $relType}) AS cn,\n",
        "           algo.linkprediction.preferentialAttachment(\n",
        "               p1, p2, {relationshipQuery: $relType}) AS pa,\n",
        "           algo.linkprediction.totalNeighbors(\n",
        "               p1, p2, {relationshipQuery: $relType}) AS tn\n",
        "    \"\"\"\n",
        "    pairs = [{\"node1\": node1, \"node2\": node2}  for node1,node2 in data[[\"node1\", \"node2\"]].values.tolist()]\n",
        "    features = graph.run(query, {\"pairs\": pairs, \"relType\": rel_type}).to_data_frame()\n",
        "    return pd.merge(data, features, on = [\"node1\", \"node2\"])"
      ],
      "execution_count": null,
      "outputs": []
    },
    {
      "cell_type": "markdown",
      "metadata": {
        "pycharm": {},
        "id": "ZFdd2jil6xeO"
      },
      "source": [
        "Now apply the function to the training DataFrame:"
      ]
    },
    {
      "cell_type": "code",
      "metadata": {
        "pycharm": {},
        "id": "A7dUKrS66xeO"
      },
      "source": [
        "training_df = apply_graphy_features(training_df, \"CO_AUTHOR_EARLY\")"
      ],
      "execution_count": null,
      "outputs": []
    },
    {
      "cell_type": "markdown",
      "metadata": {
        "pycharm": {},
        "id": "iPK8hKAL6xeO"
      },
      "source": [
        "This is what the DataFrame looks like now:"
      ]
    },
    {
      "cell_type": "code",
      "metadata": {
        "pycharm": {},
        "id": "ikzc7zx46xeO",
        "colab": {
          "base_uri": "https://localhost:8080/",
          "height": 204
        },
        "outputId": "551647d7-f124-4563-bd70-cfc95e2645be"
      },
      "source": [
        "training_df.head()"
      ],
      "execution_count": null,
      "outputs": [
        {
          "output_type": "execute_result",
          "data": {
            "text/html": [
              "<div>\n",
              "<style scoped>\n",
              "    .dataframe tbody tr th:only-of-type {\n",
              "        vertical-align: middle;\n",
              "    }\n",
              "\n",
              "    .dataframe tbody tr th {\n",
              "        vertical-align: top;\n",
              "    }\n",
              "\n",
              "    .dataframe thead th {\n",
              "        text-align: right;\n",
              "    }\n",
              "</style>\n",
              "<table border=\"1\" class=\"dataframe\">\n",
              "  <thead>\n",
              "    <tr style=\"text-align: right;\">\n",
              "      <th></th>\n",
              "      <th>node1</th>\n",
              "      <th>node2</th>\n",
              "      <th>label</th>\n",
              "      <th>cn</th>\n",
              "      <th>pa</th>\n",
              "      <th>tn</th>\n",
              "    </tr>\n",
              "  </thead>\n",
              "  <tbody>\n",
              "    <tr>\n",
              "      <th>0</th>\n",
              "      <td>139852</td>\n",
              "      <td>175663</td>\n",
              "      <td>0</td>\n",
              "      <td>0.000</td>\n",
              "      <td>17.000</td>\n",
              "      <td>18.000</td>\n",
              "    </tr>\n",
              "    <tr>\n",
              "      <th>1</th>\n",
              "      <td>84994</td>\n",
              "      <td>84838</td>\n",
              "      <td>0</td>\n",
              "      <td>0.000</td>\n",
              "      <td>45.000</td>\n",
              "      <td>18.000</td>\n",
              "    </tr>\n",
              "    <tr>\n",
              "      <th>2</th>\n",
              "      <td>209697</td>\n",
              "      <td>27413</td>\n",
              "      <td>0</td>\n",
              "      <td>0.000</td>\n",
              "      <td>72.000</td>\n",
              "      <td>17.000</td>\n",
              "    </tr>\n",
              "    <tr>\n",
              "      <th>3</th>\n",
              "      <td>51838</td>\n",
              "      <td>51842</td>\n",
              "      <td>1</td>\n",
              "      <td>3.000</td>\n",
              "      <td>16.000</td>\n",
              "      <td>5.000</td>\n",
              "    </tr>\n",
              "    <tr>\n",
              "      <th>4</th>\n",
              "      <td>263668</td>\n",
              "      <td>263669</td>\n",
              "      <td>1</td>\n",
              "      <td>1.000</td>\n",
              "      <td>4.000</td>\n",
              "      <td>3.000</td>\n",
              "    </tr>\n",
              "  </tbody>\n",
              "</table>\n",
              "</div>"
            ],
            "text/plain": [
              "    node1   node2 label    cn     pa     tn\n",
              "0  139852  175663     0 0.000 17.000 18.000\n",
              "1   84994   84838     0 0.000 45.000 18.000\n",
              "2  209697   27413     0 0.000 72.000 17.000\n",
              "3   51838   51842     1 3.000 16.000  5.000\n",
              "4  263668  263669     1 1.000  4.000  3.000"
            ]
          },
          "metadata": {
            "tags": []
          },
          "execution_count": 21
        }
      ]
    },
    {
      "cell_type": "markdown",
      "metadata": {
        "pycharm": {},
        "id": "q0aRfPRl6xeO"
      },
      "source": [
        "Do the same to the test DataFrame:"
      ]
    },
    {
      "cell_type": "code",
      "metadata": {
        "pycharm": {},
        "id": "-YJ1mrrD6xeO"
      },
      "source": [
        "test_df = apply_graphy_features(test_df, \"CO_AUTHOR\")"
      ],
      "execution_count": null,
      "outputs": []
    },
    {
      "cell_type": "code",
      "metadata": {
        "pycharm": {},
        "id": "A8R4Yxo_6xeO",
        "colab": {
          "base_uri": "https://localhost:8080/",
          "height": 204
        },
        "outputId": "e7b00384-a86e-4244-ba29-922be1f6d8fe"
      },
      "source": [
        "test_df.head()"
      ],
      "execution_count": null,
      "outputs": [
        {
          "output_type": "execute_result",
          "data": {
            "text/html": [
              "<div>\n",
              "<style scoped>\n",
              "    .dataframe tbody tr th:only-of-type {\n",
              "        vertical-align: middle;\n",
              "    }\n",
              "\n",
              "    .dataframe tbody tr th {\n",
              "        vertical-align: top;\n",
              "    }\n",
              "\n",
              "    .dataframe thead th {\n",
              "        text-align: right;\n",
              "    }\n",
              "</style>\n",
              "<table border=\"1\" class=\"dataframe\">\n",
              "  <thead>\n",
              "    <tr style=\"text-align: right;\">\n",
              "      <th></th>\n",
              "      <th>node1</th>\n",
              "      <th>node2</th>\n",
              "      <th>label</th>\n",
              "      <th>cn</th>\n",
              "      <th>pa</th>\n",
              "      <th>tn</th>\n",
              "    </tr>\n",
              "  </thead>\n",
              "  <tbody>\n",
              "    <tr>\n",
              "      <th>0</th>\n",
              "      <td>1300</td>\n",
              "      <td>2269</td>\n",
              "      <td>1</td>\n",
              "      <td>2.000</td>\n",
              "      <td>408.000</td>\n",
              "      <td>39.000</td>\n",
              "    </tr>\n",
              "    <tr>\n",
              "      <th>1</th>\n",
              "      <td>248677</td>\n",
              "      <td>248695</td>\n",
              "      <td>1</td>\n",
              "      <td>21.000</td>\n",
              "      <td>484.000</td>\n",
              "      <td>23.000</td>\n",
              "    </tr>\n",
              "    <tr>\n",
              "      <th>2</th>\n",
              "      <td>95963</td>\n",
              "      <td>123767</td>\n",
              "      <td>1</td>\n",
              "      <td>0.000</td>\n",
              "      <td>28.000</td>\n",
              "      <td>11.000</td>\n",
              "    </tr>\n",
              "    <tr>\n",
              "      <th>3</th>\n",
              "      <td>18797</td>\n",
              "      <td>36177</td>\n",
              "      <td>1</td>\n",
              "      <td>2.000</td>\n",
              "      <td>152.000</td>\n",
              "      <td>25.000</td>\n",
              "    </tr>\n",
              "    <tr>\n",
              "      <th>4</th>\n",
              "      <td>156496</td>\n",
              "      <td>180114</td>\n",
              "      <td>0</td>\n",
              "      <td>0.000</td>\n",
              "      <td>140.000</td>\n",
              "      <td>27.000</td>\n",
              "    </tr>\n",
              "  </tbody>\n",
              "</table>\n",
              "</div>"
            ],
            "text/plain": [
              "    node1   node2 label     cn      pa     tn\n",
              "0    1300    2269     1  2.000 408.000 39.000\n",
              "1  248677  248695     1 21.000 484.000 23.000\n",
              "2   95963  123767     1  0.000  28.000 11.000\n",
              "3   18797   36177     1  2.000 152.000 25.000\n",
              "4  156496  180114     0  0.000 140.000 27.000"
            ]
          },
          "metadata": {
            "tags": []
          },
          "execution_count": 23
        }
      ]
    },
    {
      "cell_type": "markdown",
      "metadata": {
        "pycharm": {},
        "id": "MRwbgcHw6xeO"
      },
      "source": [
        "Next, you will build a model based on these graphy features. You will start by just using one of the features - common neighbors. \n",
        "\n",
        "The following code builds a random forest model, evaluates it against the test dataset, and then indicates which of the features had the most importance in the model."
      ]
    },
    {
      "cell_type": "code",
      "metadata": {
        "pycharm": {},
        "id": "HDdJ48ce6xeO",
        "colab": {
          "base_uri": "https://localhost:8080/"
        },
        "outputId": "f820dc6e-1596-489c-bb12-011d40c6ffb2"
      },
      "source": [
        "columns = [\"cn\"]\n",
        "\n",
        "X = training_df[columns]\n",
        "y = training_df[\"label\"]\n",
        "classifier.fit(X, y)"
      ],
      "execution_count": null,
      "outputs": [
        {
          "output_type": "execute_result",
          "data": {
            "text/plain": [
              "RandomForestClassifier(bootstrap=True, ccp_alpha=0.0, class_weight=None,\n",
              "                       criterion='gini', max_depth=10, max_features='auto',\n",
              "                       max_leaf_nodes=None, max_samples=None,\n",
              "                       min_impurity_decrease=0.0, min_impurity_split=None,\n",
              "                       min_samples_leaf=1, min_samples_split=2,\n",
              "                       min_weight_fraction_leaf=0.0, n_estimators=30,\n",
              "                       n_jobs=None, oob_score=False, random_state=0, verbose=0,\n",
              "                       warm_start=False)"
            ]
          },
          "metadata": {
            "tags": []
          },
          "execution_count": 24
        }
      ]
    },
    {
      "cell_type": "markdown",
      "metadata": {
        "pycharm": {},
        "id": "7AIJDrB-6xeO"
      },
      "source": [
        "Next, you need to evaluate the model. You will compute its accuracy, precision, and recall. Then, you will return the importance of each feature used in the model. The following functions will help with this:"
      ]
    },
    {
      "cell_type": "code",
      "metadata": {
        "pycharm": {},
        "id": "LGA9WvhR6xeO"
      },
      "source": [
        "def evaluate_model(predictions, actual):\n",
        "    return pd.DataFrame({\n",
        "        \"Measure\": [\"Accuracy\", \"Precision\", \"Recall\"],\n",
        "        \"Score\": [accuracy_score(actual, predictions), \n",
        "                  precision_score(actual, predictions), \n",
        "                  recall_score(actual, predictions)]\n",
        "    })\n",
        "\n",
        "def feature_importance(columns, classifier):        \n",
        "    display(\"Feature Importance\")\n",
        "    df = pd.DataFrame({\n",
        "        \"Feature\": columns,\n",
        "        \"Importance\": classifier.feature_importances_\n",
        "    })\n",
        "    df = df.sort_values(\"Importance\", ascending=False)    \n",
        "    ax = df.plot(kind='bar', x='Feature', y='Importance', legend=None)\n",
        "    ax.xaxis.set_label_text(\"\")\n",
        "    plt.tight_layout()\n",
        "    plt.show()"
      ],
      "execution_count": null,
      "outputs": []
    },
    {
      "cell_type": "code",
      "metadata": {
        "pycharm": {},
        "id": "VFhtqxUx6xeO",
        "colab": {
          "base_uri": "https://localhost:8080/",
          "height": 432
        },
        "outputId": "81fd7328-85f1-4ead-8d7a-4aa38f9fb9a0"
      },
      "source": [
        "predictions = classifier.predict(test_df[columns])\n",
        "y_test = test_df[\"label\"]\n",
        "\n",
        "display(evaluate_model(predictions, y_test))\n",
        "feature_importance(columns, classifier)"
      ],
      "execution_count": null,
      "outputs": [
        {
          "output_type": "display_data",
          "data": {
            "text/html": [
              "<div>\n",
              "<style scoped>\n",
              "    .dataframe tbody tr th:only-of-type {\n",
              "        vertical-align: middle;\n",
              "    }\n",
              "\n",
              "    .dataframe tbody tr th {\n",
              "        vertical-align: top;\n",
              "    }\n",
              "\n",
              "    .dataframe thead th {\n",
              "        text-align: right;\n",
              "    }\n",
              "</style>\n",
              "<table border=\"1\" class=\"dataframe\">\n",
              "  <thead>\n",
              "    <tr style=\"text-align: right;\">\n",
              "      <th></th>\n",
              "      <th>Measure</th>\n",
              "      <th>Score</th>\n",
              "    </tr>\n",
              "  </thead>\n",
              "  <tbody>\n",
              "    <tr>\n",
              "      <th>0</th>\n",
              "      <td>Accuracy</td>\n",
              "      <td>0.854</td>\n",
              "    </tr>\n",
              "    <tr>\n",
              "      <th>1</th>\n",
              "      <td>Precision</td>\n",
              "      <td>0.943</td>\n",
              "    </tr>\n",
              "    <tr>\n",
              "      <th>2</th>\n",
              "      <td>Recall</td>\n",
              "      <td>0.753</td>\n",
              "    </tr>\n",
              "  </tbody>\n",
              "</table>\n",
              "</div>"
            ],
            "text/plain": [
              "     Measure  Score\n",
              "0   Accuracy  0.854\n",
              "1  Precision  0.943\n",
              "2     Recall  0.753"
            ]
          },
          "metadata": {
            "tags": []
          }
        },
        {
          "output_type": "display_data",
          "data": {
            "application/vnd.google.colaboratory.intrinsic+json": {
              "type": "string"
            },
            "text/plain": [
              "'Feature Importance'"
            ]
          },
          "metadata": {
            "tags": []
          }
        },
        {
          "output_type": "display_data",
          "data": {
            "image/png": "[encoded data removed]",
            "text/plain": [
              "<Figure size 432x288 with 1 Axes>"
            ]
          },
          "metadata": {
            "tags": []
          }
        }
      ]
    },
    {
      "cell_type": "markdown",
      "metadata": {
        "pycharm": {},
        "id": "33k5mUml6xeO"
      },
      "source": [
        "The scores for accuracy and precision are adequate, but the recall is not very good. What happens if you include preferential attachment and total neighbors as well?"
      ]
    },
    {
      "cell_type": "code",
      "metadata": {
        "pycharm": {},
        "id": "beyARlTJ6xeO",
        "colab": {
          "base_uri": "https://localhost:8080/",
          "height": 432
        },
        "outputId": "f8559499-9e9d-4e13-ddf8-661d64d5409d"
      },
      "source": [
        "columns = [\"cn\", \"pa\", \"tn\"]\n",
        "\n",
        "X = training_df[columns]\n",
        "y = training_df[\"label\"]\n",
        "classifier.fit(X, y)\n",
        "\n",
        "predictions = classifier.predict(test_df[columns])\n",
        "y_test = test_df[\"label\"]\n",
        "\n",
        "display(evaluate_model(predictions, y_test))\n",
        "feature_importance(columns, classifier)"
      ],
      "execution_count": null,
      "outputs": [
        {
          "output_type": "display_data",
          "data": {
            "text/html": [
              "<div>\n",
              "<style scoped>\n",
              "    .dataframe tbody tr th:only-of-type {\n",
              "        vertical-align: middle;\n",
              "    }\n",
              "\n",
              "    .dataframe tbody tr th {\n",
              "        vertical-align: top;\n",
              "    }\n",
              "\n",
              "    .dataframe thead th {\n",
              "        text-align: right;\n",
              "    }\n",
              "</style>\n",
              "<table border=\"1\" class=\"dataframe\">\n",
              "  <thead>\n",
              "    <tr style=\"text-align: right;\">\n",
              "      <th></th>\n",
              "      <th>Measure</th>\n",
              "      <th>Score</th>\n",
              "    </tr>\n",
              "  </thead>\n",
              "  <tbody>\n",
              "    <tr>\n",
              "      <th>0</th>\n",
              "      <td>Accuracy</td>\n",
              "      <td>0.917</td>\n",
              "    </tr>\n",
              "    <tr>\n",
              "      <th>1</th>\n",
              "      <td>Precision</td>\n",
              "      <td>0.919</td>\n",
              "    </tr>\n",
              "    <tr>\n",
              "      <th>2</th>\n",
              "      <td>Recall</td>\n",
              "      <td>0.915</td>\n",
              "    </tr>\n",
              "  </tbody>\n",
              "</table>\n",
              "</div>"
            ],
            "text/plain": [
              "     Measure  Score\n",
              "0   Accuracy  0.917\n",
              "1  Precision  0.919\n",
              "2     Recall  0.915"
            ]
          },
          "metadata": {
            "tags": []
          }
        },
        {
          "output_type": "display_data",
          "data": {
            "application/vnd.google.colaboratory.intrinsic+json": {
              "type": "string"
            },
            "text/plain": [
              "'Feature Importance'"
            ]
          },
          "metadata": {
            "tags": []
          }
        },
        {
          "output_type": "display_data",
          "data": {
            "image/png": "[encoded data removed]",
            "text/plain": [
              "<Figure size 432x288 with 1 Axes>"
            ]
          },
          "metadata": {
            "tags": []
          }
        }
      ]
    },
    {
      "cell_type": "markdown",
      "metadata": {
        "pycharm": {},
        "id": "HL-cTobX6xeO"
      },
      "source": [
        "Common Neighbors is the dominant feature, but including the two other features has improved the accuracy and recall of the model.\n",
        "\n",
        "Next, you will add some new features that are generated from graph algorithms.\n",
        "\n",
        "# Triangles and The Clustering Coefficient\n",
        "\n",
        "Start by running the [triangle count](https://neo4j.com/docs/graph-algorithms/current/algorithms/triangle-counting-clustering-coefficient/) algorithm over the test and train sub-graphs. This algorithm will return the number of triangles that each node forms, as well as each node's clustering coefficient. The clustering coefficient of a node indicates the likelihood that its neighbors are also connected."
      ]
    },
    {
      "cell_type": "code",
      "metadata": {
        "pycharm": {},
        "id": "bnnQaS_K6xeO",
        "colab": {
          "base_uri": "https://localhost:8080/",
          "height": 80
        },
        "outputId": "0ad69a9a-02bf-4385-cf7a-c8f1c4665164"
      },
      "source": [
        "graph.run(\"\"\"\n",
        "CALL algo.triangleCount('Author', 'CO_AUTHOR_EARLY', { write:true,\n",
        "writeProperty:'trianglesTrain', clusteringCoefficientProperty:'coefficientTrain'});\n",
        "\"\"\").to_data_frame()"
      ],
      "execution_count": null,
      "outputs": [
        {
          "output_type": "execute_result",
          "data": {
            "text/html": [
              "<div>\n",
              "<style scoped>\n",
              "    .dataframe tbody tr th:only-of-type {\n",
              "        vertical-align: middle;\n",
              "    }\n",
              "\n",
              "    .dataframe tbody tr th {\n",
              "        vertical-align: top;\n",
              "    }\n",
              "\n",
              "    .dataframe thead th {\n",
              "        text-align: right;\n",
              "    }\n",
              "</style>\n",
              "<table border=\"1\" class=\"dataframe\">\n",
              "  <thead>\n",
              "    <tr style=\"text-align: right;\">\n",
              "      <th></th>\n",
              "      <th>loadMillis</th>\n",
              "      <th>computeMillis</th>\n",
              "      <th>writeMillis</th>\n",
              "      <th>postProcessingMillis</th>\n",
              "      <th>nodeCount</th>\n",
              "      <th>triangleCount</th>\n",
              "      <th>averageClusteringCoefficient</th>\n",
              "      <th>p1</th>\n",
              "      <th>p5</th>\n",
              "      <th>p10</th>\n",
              "      <th>p25</th>\n",
              "      <th>p50</th>\n",
              "      <th>p75</th>\n",
              "      <th>p90</th>\n",
              "      <th>p95</th>\n",
              "      <th>p99</th>\n",
              "      <th>p100</th>\n",
              "      <th>write</th>\n",
              "      <th>writeProperty</th>\n",
              "      <th>clusteringCoefficientProperty</th>\n",
              "    </tr>\n",
              "  </thead>\n",
              "  <tbody>\n",
              "    <tr>\n",
              "      <th>0</th>\n",
              "      <td>264</td>\n",
              "      <td>185</td>\n",
              "      <td>50</td>\n",
              "      <td>919</td>\n",
              "      <td>80299</td>\n",
              "      <td>97205</td>\n",
              "      <td>0.375</td>\n",
              "      <td>0</td>\n",
              "      <td>0</td>\n",
              "      <td>0</td>\n",
              "      <td>0</td>\n",
              "      <td>0</td>\n",
              "      <td>3</td>\n",
              "      <td>7</td>\n",
              "      <td>15</td>\n",
              "      <td>45</td>\n",
              "      <td>787</td>\n",
              "      <td>True</td>\n",
              "      <td>trianglesTrain</td>\n",
              "      <td>coefficientTrain</td>\n",
              "    </tr>\n",
              "  </tbody>\n",
              "</table>\n",
              "</div>"
            ],
            "text/plain": [
              "   loadMillis  computeMillis  ...   writeProperty  clusteringCoefficientProperty\n",
              "0         264            185  ...  trianglesTrain               coefficientTrain\n",
              "\n",
              "[1 rows x 20 columns]"
            ]
          },
          "metadata": {
            "tags": []
          },
          "execution_count": 28
        }
      ]
    },
    {
      "cell_type": "code",
      "metadata": {
        "pycharm": {},
        "id": "QUl93EgI6xeO",
        "colab": {
          "base_uri": "https://localhost:8080/",
          "height": 80
        },
        "outputId": "e541d911-3cba-4ff2-b342-303215f1311e"
      },
      "source": [
        "graph.run(\"\"\"\n",
        "CALL algo.triangleCount('Author', 'CO_AUTHOR', { write:true,\n",
        "writeProperty:'trianglesTest', clusteringCoefficientProperty:'coefficientTest'});\n",
        "\"\"\").to_data_frame()"
      ],
      "execution_count": null,
      "outputs": [
        {
          "output_type": "execute_result",
          "data": {
            "text/html": [
              "<div>\n",
              "<style scoped>\n",
              "    .dataframe tbody tr th:only-of-type {\n",
              "        vertical-align: middle;\n",
              "    }\n",
              "\n",
              "    .dataframe tbody tr th {\n",
              "        vertical-align: top;\n",
              "    }\n",
              "\n",
              "    .dataframe thead th {\n",
              "        text-align: right;\n",
              "    }\n",
              "</style>\n",
              "<table border=\"1\" class=\"dataframe\">\n",
              "  <thead>\n",
              "    <tr style=\"text-align: right;\">\n",
              "      <th></th>\n",
              "      <th>loadMillis</th>\n",
              "      <th>computeMillis</th>\n",
              "      <th>writeMillis</th>\n",
              "      <th>postProcessingMillis</th>\n",
              "      <th>nodeCount</th>\n",
              "      <th>triangleCount</th>\n",
              "      <th>averageClusteringCoefficient</th>\n",
              "      <th>p1</th>\n",
              "      <th>p5</th>\n",
              "      <th>p10</th>\n",
              "      <th>p25</th>\n",
              "      <th>p50</th>\n",
              "      <th>p75</th>\n",
              "      <th>p90</th>\n",
              "      <th>p95</th>\n",
              "      <th>p99</th>\n",
              "      <th>p100</th>\n",
              "      <th>write</th>\n",
              "      <th>writeProperty</th>\n",
              "      <th>clusteringCoefficientProperty</th>\n",
              "    </tr>\n",
              "  </thead>\n",
              "  <tbody>\n",
              "    <tr>\n",
              "      <th>0</th>\n",
              "      <td>430</td>\n",
              "      <td>133</td>\n",
              "      <td>5</td>\n",
              "      <td>279</td>\n",
              "      <td>80299</td>\n",
              "      <td>199813</td>\n",
              "      <td>0.657</td>\n",
              "      <td>0</td>\n",
              "      <td>0</td>\n",
              "      <td>0</td>\n",
              "      <td>1</td>\n",
              "      <td>3</td>\n",
              "      <td>6</td>\n",
              "      <td>15</td>\n",
              "      <td>26</td>\n",
              "      <td>91</td>\n",
              "      <td>787</td>\n",
              "      <td>True</td>\n",
              "      <td>trianglesTest</td>\n",
              "      <td>coefficientTest</td>\n",
              "    </tr>\n",
              "  </tbody>\n",
              "</table>\n",
              "</div>"
            ],
            "text/plain": [
              "   loadMillis  computeMillis  ...  writeProperty  clusteringCoefficientProperty\n",
              "0         430            133  ...  trianglesTest                coefficientTest\n",
              "\n",
              "[1 rows x 20 columns]"
            ]
          },
          "metadata": {
            "tags": []
          },
          "execution_count": 29
        }
      ]
    },
    {
      "cell_type": "markdown",
      "metadata": {
        "pycharm": {},
        "id": "DkAUvuMO6xeO"
      },
      "source": [
        "The following function will add these features to the train and test DataFrames:"
      ]
    },
    {
      "cell_type": "code",
      "metadata": {
        "pycharm": {},
        "id": "ycFQbAhh6xeO"
      },
      "source": [
        "def apply_triangles_features(data, triangles_prop, coefficient_prop):\n",
        "    query = \"\"\"\n",
        "    UNWIND $pairs AS pair\n",
        "    MATCH (p1) WHERE id(p1) = pair.node1\n",
        "    MATCH (p2) WHERE id(p2) = pair.node2\n",
        "    RETURN pair.node1 AS node1,\n",
        "    pair.node2 AS node2,\n",
        "    apoc.coll.min([p1[$trianglesProp], p2[$trianglesProp]]) AS minTriangles,\n",
        "    apoc.coll.max([p1[$trianglesProp], p2[$trianglesProp]]) AS maxTriangles,\n",
        "    apoc.coll.min([p1[$coefficientProp], p2[$coefficientProp]]) AS minCoefficient,\n",
        "    apoc.coll.max([p1[$coefficientProp], p2[$coefficientProp]]) AS maxCoefficient\n",
        "    \"\"\"    \n",
        "    pairs = [{\"node1\": node1, \"node2\": node2}  for node1,node2 in data[[\"node1\", \"node2\"]].values.tolist()]    \n",
        "    params = {\n",
        "    \"pairs\": pairs,\n",
        "    \"trianglesProp\": triangles_prop,\n",
        "    \"coefficientProp\": coefficient_prop\n",
        "    }\n",
        "    features = graph.run(query, params).to_data_frame()    \n",
        "    return pd.merge(data, features, on = [\"node1\", \"node2\"])"
      ],
      "execution_count": null,
      "outputs": []
    },
    {
      "cell_type": "markdown",
      "metadata": {
        "pycharm": {},
        "id": "CM-Jk4CL6xeO"
      },
      "source": [
        "Add the new features:"
      ]
    },
    {
      "cell_type": "code",
      "metadata": {
        "pycharm": {},
        "id": "9_Hu72Bt6xeO"
      },
      "source": [
        "training_df = apply_triangles_features(training_df, \"trianglesTrain\", \"coefficientTrain\")\n",
        "test_df = apply_triangles_features(test_df, \"trianglesTest\", \"coefficientTest\")"
      ],
      "execution_count": null,
      "outputs": []
    },
    {
      "cell_type": "code",
      "metadata": {
        "pycharm": {},
        "id": "Jm8BAUVU6xeO",
        "colab": {
          "base_uri": "https://localhost:8080/",
          "height": 204
        },
        "outputId": "f2e1ddad-31ae-425e-9a27-8d429bcf6620"
      },
      "source": [
        "training_df.head()"
      ],
      "execution_count": null,
      "outputs": [
        {
          "output_type": "execute_result",
          "data": {
            "text/html": [
              "<div>\n",
              "<style scoped>\n",
              "    .dataframe tbody tr th:only-of-type {\n",
              "        vertical-align: middle;\n",
              "    }\n",
              "\n",
              "    .dataframe tbody tr th {\n",
              "        vertical-align: top;\n",
              "    }\n",
              "\n",
              "    .dataframe thead th {\n",
              "        text-align: right;\n",
              "    }\n",
              "</style>\n",
              "<table border=\"1\" class=\"dataframe\">\n",
              "  <thead>\n",
              "    <tr style=\"text-align: right;\">\n",
              "      <th></th>\n",
              "      <th>node1</th>\n",
              "      <th>node2</th>\n",
              "      <th>label</th>\n",
              "      <th>cn</th>\n",
              "      <th>pa</th>\n",
              "      <th>tn</th>\n",
              "      <th>minTriangles</th>\n",
              "      <th>maxTriangles</th>\n",
              "      <th>minCoefficient</th>\n",
              "      <th>maxCoefficient</th>\n",
              "    </tr>\n",
              "  </thead>\n",
              "  <tbody>\n",
              "    <tr>\n",
              "      <th>0</th>\n",
              "      <td>139852</td>\n",
              "      <td>175663</td>\n",
              "      <td>0</td>\n",
              "      <td>0.000</td>\n",
              "      <td>17.000</td>\n",
              "      <td>18.000</td>\n",
              "      <td>0</td>\n",
              "      <td>33</td>\n",
              "      <td>0.000</td>\n",
              "      <td>0.243</td>\n",
              "    </tr>\n",
              "    <tr>\n",
              "      <th>1</th>\n",
              "      <td>84994</td>\n",
              "      <td>84838</td>\n",
              "      <td>0</td>\n",
              "      <td>0.000</td>\n",
              "      <td>45.000</td>\n",
              "      <td>18.000</td>\n",
              "      <td>3</td>\n",
              "      <td>12</td>\n",
              "      <td>0.114</td>\n",
              "      <td>1.000</td>\n",
              "    </tr>\n",
              "    <tr>\n",
              "      <th>2</th>\n",
              "      <td>209697</td>\n",
              "      <td>27413</td>\n",
              "      <td>0</td>\n",
              "      <td>0.000</td>\n",
              "      <td>72.000</td>\n",
              "      <td>17.000</td>\n",
              "      <td>18</td>\n",
              "      <td>36</td>\n",
              "      <td>0.643</td>\n",
              "      <td>1.000</td>\n",
              "    </tr>\n",
              "    <tr>\n",
              "      <th>3</th>\n",
              "      <td>51838</td>\n",
              "      <td>51842</td>\n",
              "      <td>1</td>\n",
              "      <td>3.000</td>\n",
              "      <td>16.000</td>\n",
              "      <td>5.000</td>\n",
              "      <td>6</td>\n",
              "      <td>6</td>\n",
              "      <td>1.000</td>\n",
              "      <td>1.000</td>\n",
              "    </tr>\n",
              "    <tr>\n",
              "      <th>4</th>\n",
              "      <td>263668</td>\n",
              "      <td>263669</td>\n",
              "      <td>1</td>\n",
              "      <td>1.000</td>\n",
              "      <td>4.000</td>\n",
              "      <td>3.000</td>\n",
              "      <td>1</td>\n",
              "      <td>1</td>\n",
              "      <td>1.000</td>\n",
              "      <td>1.000</td>\n",
              "    </tr>\n",
              "  </tbody>\n",
              "</table>\n",
              "</div>"
            ],
            "text/plain": [
              "    node1   node2 label  ...  maxTriangles  minCoefficient  maxCoefficient\n",
              "0  139852  175663     0  ...            33           0.000           0.243\n",
              "1   84994   84838     0  ...            12           0.114           1.000\n",
              "2  209697   27413     0  ...            36           0.643           1.000\n",
              "3   51838   51842     1  ...             6           1.000           1.000\n",
              "4  263668  263669     1  ...             1           1.000           1.000\n",
              "\n",
              "[5 rows x 10 columns]"
            ]
          },
          "metadata": {
            "tags": []
          },
          "execution_count": 32
        }
      ]
    },
    {
      "cell_type": "code",
      "metadata": {
        "pycharm": {},
        "id": "q2UC6b9w6xeO",
        "colab": {
          "base_uri": "https://localhost:8080/",
          "height": 204
        },
        "outputId": "5896f953-d1ec-4f5b-af1e-9358e74996e7"
      },
      "source": [
        "test_df.head()"
      ],
      "execution_count": null,
      "outputs": [
        {
          "output_type": "execute_result",
          "data": {
            "text/html": [
              "<div>\n",
              "<style scoped>\n",
              "    .dataframe tbody tr th:only-of-type {\n",
              "        vertical-align: middle;\n",
              "    }\n",
              "\n",
              "    .dataframe tbody tr th {\n",
              "        vertical-align: top;\n",
              "    }\n",
              "\n",
              "    .dataframe thead th {\n",
              "        text-align: right;\n",
              "    }\n",
              "</style>\n",
              "<table border=\"1\" class=\"dataframe\">\n",
              "  <thead>\n",
              "    <tr style=\"text-align: right;\">\n",
              "      <th></th>\n",
              "      <th>node1</th>\n",
              "      <th>node2</th>\n",
              "      <th>label</th>\n",
              "      <th>cn</th>\n",
              "      <th>pa</th>\n",
              "      <th>tn</th>\n",
              "      <th>minTriangles</th>\n",
              "      <th>maxTriangles</th>\n",
              "      <th>minCoefficient</th>\n",
              "      <th>maxCoefficient</th>\n",
              "    </tr>\n",
              "  </thead>\n",
              "  <tbody>\n",
              "    <tr>\n",
              "      <th>0</th>\n",
              "      <td>1300</td>\n",
              "      <td>2269</td>\n",
              "      <td>1</td>\n",
              "      <td>2.000</td>\n",
              "      <td>408.000</td>\n",
              "      <td>39.000</td>\n",
              "      <td>17</td>\n",
              "      <td>30</td>\n",
              "      <td>0.109</td>\n",
              "      <td>0.125</td>\n",
              "    </tr>\n",
              "    <tr>\n",
              "      <th>1</th>\n",
              "      <td>248677</td>\n",
              "      <td>248695</td>\n",
              "      <td>1</td>\n",
              "      <td>21.000</td>\n",
              "      <td>484.000</td>\n",
              "      <td>23.000</td>\n",
              "      <td>231</td>\n",
              "      <td>231</td>\n",
              "      <td>1.000</td>\n",
              "      <td>1.000</td>\n",
              "    </tr>\n",
              "    <tr>\n",
              "      <th>2</th>\n",
              "      <td>95963</td>\n",
              "      <td>123767</td>\n",
              "      <td>1</td>\n",
              "      <td>0.000</td>\n",
              "      <td>28.000</td>\n",
              "      <td>11.000</td>\n",
              "      <td>3</td>\n",
              "      <td>15</td>\n",
              "      <td>0.500</td>\n",
              "      <td>0.714</td>\n",
              "    </tr>\n",
              "    <tr>\n",
              "      <th>3</th>\n",
              "      <td>18797</td>\n",
              "      <td>36177</td>\n",
              "      <td>1</td>\n",
              "      <td>2.000</td>\n",
              "      <td>152.000</td>\n",
              "      <td>25.000</td>\n",
              "      <td>7</td>\n",
              "      <td>20</td>\n",
              "      <td>0.117</td>\n",
              "      <td>0.250</td>\n",
              "    </tr>\n",
              "    <tr>\n",
              "      <th>4</th>\n",
              "      <td>156496</td>\n",
              "      <td>180114</td>\n",
              "      <td>0</td>\n",
              "      <td>0.000</td>\n",
              "      <td>140.000</td>\n",
              "      <td>27.000</td>\n",
              "      <td>21</td>\n",
              "      <td>52</td>\n",
              "      <td>0.274</td>\n",
              "      <td>1.000</td>\n",
              "    </tr>\n",
              "  </tbody>\n",
              "</table>\n",
              "</div>"
            ],
            "text/plain": [
              "    node1   node2 label  ...  maxTriangles  minCoefficient  maxCoefficient\n",
              "0    1300    2269     1  ...            30           0.109           0.125\n",
              "1  248677  248695     1  ...           231           1.000           1.000\n",
              "2   95963  123767     1  ...            15           0.500           0.714\n",
              "3   18797   36177     1  ...            20           0.117           0.250\n",
              "4  156496  180114     0  ...            52           0.274           1.000\n",
              "\n",
              "[5 rows x 10 columns]"
            ]
          },
          "metadata": {
            "tags": []
          },
          "execution_count": 33
        }
      ]
    },
    {
      "cell_type": "markdown",
      "metadata": {
        "pycharm": {},
        "id": "V0TKTRN56xeO"
      },
      "source": [
        "And now let's train and evaluate a model with these features:"
      ]
    },
    {
      "cell_type": "code",
      "metadata": {
        "pycharm": {},
        "id": "YjLUn0YN6xeO",
        "colab": {
          "base_uri": "https://localhost:8080/",
          "height": 432
        },
        "outputId": "4aa5e658-1b11-49ea-acf4-f9a748fce67d"
      },
      "source": [
        "columns = [\n",
        "    \"cn\", \"pa\", \"tn\", # graph features\n",
        "    \"minTriangles\", \"maxTriangles\", \"minCoefficient\", \"maxCoefficient\" # triangle features  \n",
        "]\n",
        "\n",
        "X = training_df[columns]\n",
        "y = training_df[\"label\"]\n",
        "classifier.fit(X, y)\n",
        "\n",
        "predictions = classifier.predict(test_df[columns])\n",
        "y_test = test_df[\"label\"]\n",
        "\n",
        "display(evaluate_model(predictions, y_test))\n",
        "feature_importance(columns, classifier)"
      ],
      "execution_count": null,
      "outputs": [
        {
          "output_type": "display_data",
          "data": {
            "text/html": [
              "<div>\n",
              "<style scoped>\n",
              "    .dataframe tbody tr th:only-of-type {\n",
              "        vertical-align: middle;\n",
              "    }\n",
              "\n",
              "    .dataframe tbody tr th {\n",
              "        vertical-align: top;\n",
              "    }\n",
              "\n",
              "    .dataframe thead th {\n",
              "        text-align: right;\n",
              "    }\n",
              "</style>\n",
              "<table border=\"1\" class=\"dataframe\">\n",
              "  <thead>\n",
              "    <tr style=\"text-align: right;\">\n",
              "      <th></th>\n",
              "      <th>Measure</th>\n",
              "      <th>Score</th>\n",
              "    </tr>\n",
              "  </thead>\n",
              "  <tbody>\n",
              "    <tr>\n",
              "      <th>0</th>\n",
              "      <td>Accuracy</td>\n",
              "      <td>0.953</td>\n",
              "    </tr>\n",
              "    <tr>\n",
              "      <th>1</th>\n",
              "      <td>Precision</td>\n",
              "      <td>0.952</td>\n",
              "    </tr>\n",
              "    <tr>\n",
              "      <th>2</th>\n",
              "      <td>Recall</td>\n",
              "      <td>0.954</td>\n",
              "    </tr>\n",
              "  </tbody>\n",
              "</table>\n",
              "</div>"
            ],
            "text/plain": [
              "     Measure  Score\n",
              "0   Accuracy  0.953\n",
              "1  Precision  0.952\n",
              "2     Recall  0.954"
            ]
          },
          "metadata": {
            "tags": []
          }
        },
        {
          "output_type": "display_data",
          "data": {
            "application/vnd.google.colaboratory.intrinsic+json": {
              "type": "string"
            },
            "text/plain": [
              "'Feature Importance'"
            ]
          },
          "metadata": {
            "tags": []
          }
        },
        {
          "output_type": "display_data",
          "data": {
            "image/png": "[encoded data removed]",
            "text/plain": [
              "<Figure size 432x288 with 1 Axes>"
            ]
          },
          "metadata": {
            "tags": []
          }
        }
      ]
    },
    {
      "cell_type": "markdown",
      "metadata": {
        "pycharm": {},
        "id": "8pTcYdUa6xeO"
      },
      "source": [
        "The coefficient features have not added much to our model, but the triangles are useful. Next you will see if Community Detection algorithms can help improve the model.\n",
        "\n",
        "# Community Detection\n",
        "\n",
        "Community Detection algorithms evaluate how a group is clustered or partitioned. Nodes are considered more similar to nodes that fall in their community than to nodes in other communities.\n",
        "\n",
        "You will run two Community Detection algorithms over the train and test sub-graphs - Label Propagation and Louvain. First, Label Propagation: "
      ]
    },
    {
      "cell_type": "code",
      "metadata": {
        "pycharm": {},
        "id": "9DZ557qi6xeO",
        "colab": {
          "base_uri": "https://localhost:8080/",
          "height": 80
        },
        "outputId": "afa40fe7-6c49-4fcc-d415-7c620822c1f5"
      },
      "source": [
        "graph.run(\"\"\"\n",
        "CALL algo.labelPropagation(\"Author\", \"CO_AUTHOR_EARLY\", \"BOTH\",\n",
        "{partitionProperty: \"partitionTrain\"});\n",
        "\"\"\").to_data_frame()"
      ],
      "execution_count": null,
      "outputs": [
        {
          "output_type": "execute_result",
          "data": {
            "text/html": [
              "<div>\n",
              "<style scoped>\n",
              "    .dataframe tbody tr th:only-of-type {\n",
              "        vertical-align: middle;\n",
              "    }\n",
              "\n",
              "    .dataframe tbody tr th {\n",
              "        vertical-align: top;\n",
              "    }\n",
              "\n",
              "    .dataframe thead th {\n",
              "        text-align: right;\n",
              "    }\n",
              "</style>\n",
              "<table border=\"1\" class=\"dataframe\">\n",
              "  <thead>\n",
              "    <tr style=\"text-align: right;\">\n",
              "      <th></th>\n",
              "      <th>loadMillis</th>\n",
              "      <th>computeMillis</th>\n",
              "      <th>writeMillis</th>\n",
              "      <th>postProcessingMillis</th>\n",
              "      <th>nodes</th>\n",
              "      <th>communityCount</th>\n",
              "      <th>iterations</th>\n",
              "      <th>didConverge</th>\n",
              "      <th>p1</th>\n",
              "      <th>p5</th>\n",
              "      <th>p10</th>\n",
              "      <th>p25</th>\n",
              "      <th>p50</th>\n",
              "      <th>p75</th>\n",
              "      <th>p90</th>\n",
              "      <th>p95</th>\n",
              "      <th>p99</th>\n",
              "      <th>p100</th>\n",
              "      <th>weightProperty</th>\n",
              "      <th>write</th>\n",
              "      <th>partitionProperty</th>\n",
              "      <th>writeProperty</th>\n",
              "    </tr>\n",
              "  </thead>\n",
              "  <tbody>\n",
              "    <tr>\n",
              "      <th>0</th>\n",
              "      <td>237</td>\n",
              "      <td>100</td>\n",
              "      <td>23</td>\n",
              "      <td>173</td>\n",
              "      <td>80299</td>\n",
              "      <td>47085</td>\n",
              "      <td>1</td>\n",
              "      <td>False</td>\n",
              "      <td>1</td>\n",
              "      <td>1</td>\n",
              "      <td>1</td>\n",
              "      <td>1</td>\n",
              "      <td>1</td>\n",
              "      <td>1</td>\n",
              "      <td>3</td>\n",
              "      <td>5</td>\n",
              "      <td>11</td>\n",
              "      <td>82</td>\n",
              "      <td>weight</td>\n",
              "      <td>True</td>\n",
              "      <td>partitionTrain</td>\n",
              "      <td>partitionTrain</td>\n",
              "    </tr>\n",
              "  </tbody>\n",
              "</table>\n",
              "</div>"
            ],
            "text/plain": [
              "   loadMillis  computeMillis  ...  partitionProperty   writeProperty\n",
              "0         237            100  ...     partitionTrain  partitionTrain\n",
              "\n",
              "[1 rows x 22 columns]"
            ]
          },
          "metadata": {
            "tags": []
          },
          "execution_count": 35
        }
      ]
    },
    {
      "cell_type": "code",
      "metadata": {
        "pycharm": {},
        "id": "xNLNZjWt6xeO",
        "colab": {
          "base_uri": "https://localhost:8080/",
          "height": 80
        },
        "outputId": "d2c0c389-a2c9-4828-e949-6369c4ab9cdd"
      },
      "source": [
        "graph.run(\"\"\"\n",
        "CALL algo.labelPropagation(\"Author\", \"CO_AUTHOR\", \"BOTH\",\n",
        "{partitionProperty: \"partitionTest\"});\n",
        "\"\"\").to_data_frame()"
      ],
      "execution_count": null,
      "outputs": [
        {
          "output_type": "execute_result",
          "data": {
            "text/html": [
              "<div>\n",
              "<style scoped>\n",
              "    .dataframe tbody tr th:only-of-type {\n",
              "        vertical-align: middle;\n",
              "    }\n",
              "\n",
              "    .dataframe tbody tr th {\n",
              "        vertical-align: top;\n",
              "    }\n",
              "\n",
              "    .dataframe thead th {\n",
              "        text-align: right;\n",
              "    }\n",
              "</style>\n",
              "<table border=\"1\" class=\"dataframe\">\n",
              "  <thead>\n",
              "    <tr style=\"text-align: right;\">\n",
              "      <th></th>\n",
              "      <th>loadMillis</th>\n",
              "      <th>computeMillis</th>\n",
              "      <th>writeMillis</th>\n",
              "      <th>postProcessingMillis</th>\n",
              "      <th>nodes</th>\n",
              "      <th>communityCount</th>\n",
              "      <th>iterations</th>\n",
              "      <th>didConverge</th>\n",
              "      <th>p1</th>\n",
              "      <th>p5</th>\n",
              "      <th>p10</th>\n",
              "      <th>p25</th>\n",
              "      <th>p50</th>\n",
              "      <th>p75</th>\n",
              "      <th>p90</th>\n",
              "      <th>p95</th>\n",
              "      <th>p99</th>\n",
              "      <th>p100</th>\n",
              "      <th>weightProperty</th>\n",
              "      <th>write</th>\n",
              "      <th>partitionProperty</th>\n",
              "      <th>writeProperty</th>\n",
              "    </tr>\n",
              "  </thead>\n",
              "  <tbody>\n",
              "    <tr>\n",
              "      <th>0</th>\n",
              "      <td>407</td>\n",
              "      <td>74</td>\n",
              "      <td>10</td>\n",
              "      <td>162</td>\n",
              "      <td>80299</td>\n",
              "      <td>22074</td>\n",
              "      <td>1</td>\n",
              "      <td>False</td>\n",
              "      <td>1</td>\n",
              "      <td>1</td>\n",
              "      <td>1</td>\n",
              "      <td>1</td>\n",
              "      <td>2</td>\n",
              "      <td>4</td>\n",
              "      <td>7</td>\n",
              "      <td>10</td>\n",
              "      <td>22</td>\n",
              "      <td>233</td>\n",
              "      <td>weight</td>\n",
              "      <td>True</td>\n",
              "      <td>partitionTest</td>\n",
              "      <td>partitionTest</td>\n",
              "    </tr>\n",
              "  </tbody>\n",
              "</table>\n",
              "</div>"
            ],
            "text/plain": [
              "   loadMillis  computeMillis  ...  partitionProperty  writeProperty\n",
              "0         407             74  ...      partitionTest  partitionTest\n",
              "\n",
              "[1 rows x 22 columns]"
            ]
          },
          "metadata": {
            "tags": []
          },
          "execution_count": 36
        }
      ]
    },
    {
      "cell_type": "markdown",
      "metadata": {
        "pycharm": {},
        "id": "E-QD_G2W6xeP"
      },
      "source": [
        "And now Louvain. The Louvain algorithm returns intermediate communities, which are useful for finding fine grained communities that exist in a graph. You will add a property to each node containing the community revealed on the first iteration of the algorithm:"
      ]
    },
    {
      "cell_type": "code",
      "metadata": {
        "pycharm": {},
        "id": "8lCj0tC16xeP",
        "colab": {
          "base_uri": "https://localhost:8080/"
        },
        "outputId": "bc382cd0-8737-4387-9b2b-c42130aab5b4"
      },
      "source": [
        "graph.run(\"\"\"\n",
        "CALL algo.louvain.stream(\"Author\", \"CO_AUTHOR_EARLY\", {includeIntermediateCommunities:true})\n",
        "YIELD nodeId, community, communities\n",
        "WITH algo.getNodeById(nodeId) AS node, communities[0] AS smallestCommunity\n",
        "SET node.louvainTrain = smallestCommunity;\n",
        "\"\"\").stats()"
      ],
      "execution_count": null,
      "outputs": [
        {
          "output_type": "execute_result",
          "data": {
            "text/plain": [
              "{'constraints_added': 0,\n",
              " 'constraints_removed': 0,\n",
              " 'contains_updates': True,\n",
              " 'indexes_added': 0,\n",
              " 'indexes_removed': 0,\n",
              " 'labels_added': 0,\n",
              " 'labels_removed': 0,\n",
              " 'nodes_created': 0,\n",
              " 'nodes_deleted': 0,\n",
              " 'properties_set': 80299,\n",
              " 'relationships_created': 0,\n",
              " 'relationships_deleted': 0}"
            ]
          },
          "metadata": {
            "tags": []
          },
          "execution_count": 37
        }
      ]
    },
    {
      "cell_type": "code",
      "metadata": {
        "pycharm": {},
        "id": "d51--Sqw6xeP",
        "colab": {
          "base_uri": "https://localhost:8080/"
        },
        "outputId": "ebac687d-8e9a-4110-9b61-f352a85419ea"
      },
      "source": [
        "graph.run(\"\"\"\n",
        "CALL algo.louvain.stream(\"Author\", \"CO_AUTHOR\", {includeIntermediateCommunities:true})\n",
        "YIELD nodeId, community, communities\n",
        "WITH algo.getNodeById(nodeId) AS node, communities[0] AS smallestCommunity\n",
        "SET node.louvainTest = smallestCommunity;\n",
        "\"\"\").stats()"
      ],
      "execution_count": null,
      "outputs": [
        {
          "output_type": "execute_result",
          "data": {
            "text/plain": [
              "{'constraints_added': 0,\n",
              " 'constraints_removed': 0,\n",
              " 'contains_updates': True,\n",
              " 'indexes_added': 0,\n",
              " 'indexes_removed': 0,\n",
              " 'labels_added': 0,\n",
              " 'labels_removed': 0,\n",
              " 'nodes_created': 0,\n",
              " 'nodes_deleted': 0,\n",
              " 'properties_set': 80299,\n",
              " 'relationships_created': 0,\n",
              " 'relationships_deleted': 0}"
            ]
          },
          "metadata": {
            "tags": []
          },
          "execution_count": 38
        }
      ]
    },
    {
      "cell_type": "markdown",
      "metadata": {
        "pycharm": {},
        "id": "pZrc-7L46xeP"
      },
      "source": [
        "The following function will add these features to the train and test DataFrames:"
      ]
    },
    {
      "cell_type": "code",
      "metadata": {
        "pycharm": {},
        "id": "EX28rZCF6xeP"
      },
      "source": [
        "def apply_community_features(data, partition_prop, louvain_prop):\n",
        "    query = \"\"\"\n",
        "    UNWIND $pairs AS pair\n",
        "    MATCH (p1) WHERE id(p1) = pair.node1\n",
        "    MATCH (p2) WHERE id(p2) = pair.node2\n",
        "    RETURN pair.node1 AS node1,\n",
        "    pair.node2 AS node2,\n",
        "    algo.linkprediction.sameCommunity(p1, p2, $partitionProp) AS sp,    \n",
        "    algo.linkprediction.sameCommunity(p1, p2, $louvainProp) AS sl\n",
        "    \"\"\"\n",
        "    pairs = [{\"node1\": node1, \"node2\": node2}  for node1,node2 in data[[\"node1\", \"node2\"]].values.tolist()]\n",
        "    params = {\n",
        "    \"pairs\": pairs,\n",
        "    \"partitionProp\": partition_prop,\n",
        "    \"louvainProp\": louvain_prop\n",
        "    }\n",
        "    features = graph.run(query, params).to_data_frame()\n",
        "    return pd.merge(data, features, on = [\"node1\", \"node2\"])"
      ],
      "execution_count": null,
      "outputs": []
    },
    {
      "cell_type": "code",
      "metadata": {
        "pycharm": {},
        "id": "eZQtIbCw6xeP"
      },
      "source": [
        "training_df = apply_community_features(training_df, \"partitionTrain\", \"louvainTrain\")\n",
        "test_df = apply_community_features(test_df, \"partitionTest\", \"louvainTest\")"
      ],
      "execution_count": null,
      "outputs": []
    },
    {
      "cell_type": "code",
      "metadata": {
        "pycharm": {},
        "id": "YcfM6crE6xeP",
        "colab": {
          "base_uri": "https://localhost:8080/",
          "height": 204
        },
        "outputId": "e3116a2e-f677-4f7d-8c9e-30665bd43bb2"
      },
      "source": [
        "training_df.head()"
      ],
      "execution_count": null,
      "outputs": [
        {
          "output_type": "execute_result",
          "data": {
            "text/html": [
              "<div>\n",
              "<style scoped>\n",
              "    .dataframe tbody tr th:only-of-type {\n",
              "        vertical-align: middle;\n",
              "    }\n",
              "\n",
              "    .dataframe tbody tr th {\n",
              "        vertical-align: top;\n",
              "    }\n",
              "\n",
              "    .dataframe thead th {\n",
              "        text-align: right;\n",
              "    }\n",
              "</style>\n",
              "<table border=\"1\" class=\"dataframe\">\n",
              "  <thead>\n",
              "    <tr style=\"text-align: right;\">\n",
              "      <th></th>\n",
              "      <th>node1</th>\n",
              "      <th>node2</th>\n",
              "      <th>label</th>\n",
              "      <th>cn</th>\n",
              "      <th>pa</th>\n",
              "      <th>tn</th>\n",
              "      <th>minTriangles</th>\n",
              "      <th>maxTriangles</th>\n",
              "      <th>minCoefficient</th>\n",
              "      <th>maxCoefficient</th>\n",
              "      <th>sp</th>\n",
              "      <th>sl</th>\n",
              "    </tr>\n",
              "  </thead>\n",
              "  <tbody>\n",
              "    <tr>\n",
              "      <th>0</th>\n",
              "      <td>139852</td>\n",
              "      <td>175663</td>\n",
              "      <td>0</td>\n",
              "      <td>0.000</td>\n",
              "      <td>17.000</td>\n",
              "      <td>18.000</td>\n",
              "      <td>0</td>\n",
              "      <td>33</td>\n",
              "      <td>0.000</td>\n",
              "      <td>0.243</td>\n",
              "      <td>0.000</td>\n",
              "      <td>0.000</td>\n",
              "    </tr>\n",
              "    <tr>\n",
              "      <th>1</th>\n",
              "      <td>84994</td>\n",
              "      <td>84838</td>\n",
              "      <td>0</td>\n",
              "      <td>0.000</td>\n",
              "      <td>45.000</td>\n",
              "      <td>18.000</td>\n",
              "      <td>3</td>\n",
              "      <td>12</td>\n",
              "      <td>0.114</td>\n",
              "      <td>1.000</td>\n",
              "      <td>0.000</td>\n",
              "      <td>0.000</td>\n",
              "    </tr>\n",
              "    <tr>\n",
              "      <th>2</th>\n",
              "      <td>209697</td>\n",
              "      <td>27413</td>\n",
              "      <td>0</td>\n",
              "      <td>0.000</td>\n",
              "      <td>72.000</td>\n",
              "      <td>17.000</td>\n",
              "      <td>18</td>\n",
              "      <td>36</td>\n",
              "      <td>0.643</td>\n",
              "      <td>1.000</td>\n",
              "      <td>0.000</td>\n",
              "      <td>0.000</td>\n",
              "    </tr>\n",
              "    <tr>\n",
              "      <th>3</th>\n",
              "      <td>51838</td>\n",
              "      <td>51842</td>\n",
              "      <td>1</td>\n",
              "      <td>3.000</td>\n",
              "      <td>16.000</td>\n",
              "      <td>5.000</td>\n",
              "      <td>6</td>\n",
              "      <td>6</td>\n",
              "      <td>1.000</td>\n",
              "      <td>1.000</td>\n",
              "      <td>1.000</td>\n",
              "      <td>1.000</td>\n",
              "    </tr>\n",
              "    <tr>\n",
              "      <th>4</th>\n",
              "      <td>263668</td>\n",
              "      <td>263669</td>\n",
              "      <td>1</td>\n",
              "      <td>1.000</td>\n",
              "      <td>4.000</td>\n",
              "      <td>3.000</td>\n",
              "      <td>1</td>\n",
              "      <td>1</td>\n",
              "      <td>1.000</td>\n",
              "      <td>1.000</td>\n",
              "      <td>0.000</td>\n",
              "      <td>1.000</td>\n",
              "    </tr>\n",
              "  </tbody>\n",
              "</table>\n",
              "</div>"
            ],
            "text/plain": [
              "    node1   node2 label    cn  ...  minCoefficient  maxCoefficient    sp    sl\n",
              "0  139852  175663     0 0.000  ...           0.000           0.243 0.000 0.000\n",
              "1   84994   84838     0 0.000  ...           0.114           1.000 0.000 0.000\n",
              "2  209697   27413     0 0.000  ...           0.643           1.000 0.000 0.000\n",
              "3   51838   51842     1 3.000  ...           1.000           1.000 1.000 1.000\n",
              "4  263668  263669     1 1.000  ...           1.000           1.000 0.000 1.000\n",
              "\n",
              "[5 rows x 12 columns]"
            ]
          },
          "metadata": {
            "tags": []
          },
          "execution_count": 41
        }
      ]
    },
    {
      "cell_type": "code",
      "metadata": {
        "pycharm": {},
        "id": "lGlsaY5T6xeP",
        "colab": {
          "base_uri": "https://localhost:8080/",
          "height": 204
        },
        "outputId": "a16d1b05-76d1-4062-a697-6cdc6dc51f49"
      },
      "source": [
        "test_df.head()"
      ],
      "execution_count": null,
      "outputs": [
        {
          "output_type": "execute_result",
          "data": {
            "text/html": [
              "<div>\n",
              "<style scoped>\n",
              "    .dataframe tbody tr th:only-of-type {\n",
              "        vertical-align: middle;\n",
              "    }\n",
              "\n",
              "    .dataframe tbody tr th {\n",
              "        vertical-align: top;\n",
              "    }\n",
              "\n",
              "    .dataframe thead th {\n",
              "        text-align: right;\n",
              "    }\n",
              "</style>\n",
              "<table border=\"1\" class=\"dataframe\">\n",
              "  <thead>\n",
              "    <tr style=\"text-align: right;\">\n",
              "      <th></th>\n",
              "      <th>node1</th>\n",
              "      <th>node2</th>\n",
              "      <th>label</th>\n",
              "      <th>cn</th>\n",
              "      <th>pa</th>\n",
              "      <th>tn</th>\n",
              "      <th>minTriangles</th>\n",
              "      <th>maxTriangles</th>\n",
              "      <th>minCoefficient</th>\n",
              "      <th>maxCoefficient</th>\n",
              "      <th>sp</th>\n",
              "      <th>sl</th>\n",
              "    </tr>\n",
              "  </thead>\n",
              "  <tbody>\n",
              "    <tr>\n",
              "      <th>0</th>\n",
              "      <td>1300</td>\n",
              "      <td>2269</td>\n",
              "      <td>1</td>\n",
              "      <td>2.000</td>\n",
              "      <td>408.000</td>\n",
              "      <td>39.000</td>\n",
              "      <td>17</td>\n",
              "      <td>30</td>\n",
              "      <td>0.109</td>\n",
              "      <td>0.125</td>\n",
              "      <td>0.000</td>\n",
              "      <td>0.000</td>\n",
              "    </tr>\n",
              "    <tr>\n",
              "      <th>1</th>\n",
              "      <td>248677</td>\n",
              "      <td>248695</td>\n",
              "      <td>1</td>\n",
              "      <td>21.000</td>\n",
              "      <td>484.000</td>\n",
              "      <td>23.000</td>\n",
              "      <td>231</td>\n",
              "      <td>231</td>\n",
              "      <td>1.000</td>\n",
              "      <td>1.000</td>\n",
              "      <td>1.000</td>\n",
              "      <td>1.000</td>\n",
              "    </tr>\n",
              "    <tr>\n",
              "      <th>2</th>\n",
              "      <td>95963</td>\n",
              "      <td>123767</td>\n",
              "      <td>1</td>\n",
              "      <td>0.000</td>\n",
              "      <td>28.000</td>\n",
              "      <td>11.000</td>\n",
              "      <td>3</td>\n",
              "      <td>15</td>\n",
              "      <td>0.500</td>\n",
              "      <td>0.714</td>\n",
              "      <td>0.000</td>\n",
              "      <td>0.000</td>\n",
              "    </tr>\n",
              "    <tr>\n",
              "      <th>3</th>\n",
              "      <td>18797</td>\n",
              "      <td>36177</td>\n",
              "      <td>1</td>\n",
              "      <td>2.000</td>\n",
              "      <td>152.000</td>\n",
              "      <td>25.000</td>\n",
              "      <td>7</td>\n",
              "      <td>20</td>\n",
              "      <td>0.117</td>\n",
              "      <td>0.250</td>\n",
              "      <td>0.000</td>\n",
              "      <td>0.000</td>\n",
              "    </tr>\n",
              "    <tr>\n",
              "      <th>4</th>\n",
              "      <td>156496</td>\n",
              "      <td>180114</td>\n",
              "      <td>0</td>\n",
              "      <td>0.000</td>\n",
              "      <td>140.000</td>\n",
              "      <td>27.000</td>\n",
              "      <td>21</td>\n",
              "      <td>52</td>\n",
              "      <td>0.274</td>\n",
              "      <td>1.000</td>\n",
              "      <td>0.000</td>\n",
              "      <td>0.000</td>\n",
              "    </tr>\n",
              "  </tbody>\n",
              "</table>\n",
              "</div>"
            ],
            "text/plain": [
              "    node1   node2 label     cn  ...  minCoefficient  maxCoefficient    sp    sl\n",
              "0    1300    2269     1  2.000  ...           0.109           0.125 0.000 0.000\n",
              "1  248677  248695     1 21.000  ...           1.000           1.000 1.000 1.000\n",
              "2   95963  123767     1  0.000  ...           0.500           0.714 0.000 0.000\n",
              "3   18797   36177     1  2.000  ...           0.117           0.250 0.000 0.000\n",
              "4  156496  180114     0  0.000  ...           0.274           1.000 0.000 0.000\n",
              "\n",
              "[5 rows x 12 columns]"
            ]
          },
          "metadata": {
            "tags": []
          },
          "execution_count": 42
        }
      ]
    },
    {
      "cell_type": "code",
      "metadata": {
        "pycharm": {},
        "id": "haCC-DOC6xeP",
        "colab": {
          "base_uri": "https://localhost:8080/",
          "height": 432
        },
        "outputId": "16e0136c-76f7-4bc5-c336-efa739711612"
      },
      "source": [
        "columns = [\n",
        "    \"cn\", \"pa\", \"tn\", # graph features\n",
        "    \"minTriangles\", \"maxTriangles\", \"minCoefficient\", \"maxCoefficient\", # triangle features  \n",
        "    \"sp\", \"sl\" # community features\n",
        "]\n",
        "\n",
        "X = training_df[columns]\n",
        "y = training_df[\"label\"]\n",
        "classifier.fit(X, y)\n",
        "\n",
        "predictions = classifier.predict(test_df[columns])\n",
        "y_test = test_df[\"label\"]\n",
        "\n",
        "display(evaluate_model(predictions, y_test))\n",
        "feature_importance(columns, classifier)"
      ],
      "execution_count": null,
      "outputs": [
        {
          "output_type": "display_data",
          "data": {
            "text/html": [
              "<div>\n",
              "<style scoped>\n",
              "    .dataframe tbody tr th:only-of-type {\n",
              "        vertical-align: middle;\n",
              "    }\n",
              "\n",
              "    .dataframe tbody tr th {\n",
              "        vertical-align: top;\n",
              "    }\n",
              "\n",
              "    .dataframe thead th {\n",
              "        text-align: right;\n",
              "    }\n",
              "</style>\n",
              "<table border=\"1\" class=\"dataframe\">\n",
              "  <thead>\n",
              "    <tr style=\"text-align: right;\">\n",
              "      <th></th>\n",
              "      <th>Measure</th>\n",
              "      <th>Score</th>\n",
              "    </tr>\n",
              "  </thead>\n",
              "  <tbody>\n",
              "    <tr>\n",
              "      <th>0</th>\n",
              "      <td>Accuracy</td>\n",
              "      <td>0.964</td>\n",
              "    </tr>\n",
              "    <tr>\n",
              "      <th>1</th>\n",
              "      <td>Precision</td>\n",
              "      <td>0.966</td>\n",
              "    </tr>\n",
              "    <tr>\n",
              "      <th>2</th>\n",
              "      <td>Recall</td>\n",
              "      <td>0.962</td>\n",
              "    </tr>\n",
              "  </tbody>\n",
              "</table>\n",
              "</div>"
            ],
            "text/plain": [
              "     Measure  Score\n",
              "0   Accuracy  0.964\n",
              "1  Precision  0.966\n",
              "2     Recall  0.962"
            ]
          },
          "metadata": {
            "tags": []
          }
        },
        {
          "output_type": "display_data",
          "data": {
            "application/vnd.google.colaboratory.intrinsic+json": {
              "type": "string"
            },
            "text/plain": [
              "'Feature Importance'"
            ]
          },
          "metadata": {
            "tags": []
          }
        },
        {
          "output_type": "display_data",
          "data": {
            "image/png": "[encoded data removed]",
            "text/plain": [
              "<Figure size 432x288 with 1 Axes>"
            ]
          },
          "metadata": {
            "tags": []
          }
        }
      ]
    }
  ]
}